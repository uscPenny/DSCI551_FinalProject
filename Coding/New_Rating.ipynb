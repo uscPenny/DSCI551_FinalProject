{
 "cells": [
  {
   "cell_type": "code",
   "execution_count": 1,
   "id": "2fa107e3",
   "metadata": {},
   "outputs": [],
   "source": [
    "import pandas as pd\n",
    "import numpy as np\n",
    "import json"
   ]
  },
  {
   "cell_type": "code",
   "execution_count": 2,
   "id": "e8303510",
   "metadata": {},
   "outputs": [],
   "source": [
    "rating_df = pd.read_csv(\"ratings.csv\", low_memory = False)"
   ]
  },
  {
   "cell_type": "code",
   "execution_count": 3,
   "id": "31572bbe",
   "metadata": {},
   "outputs": [],
   "source": [
    "rating_df = rating_df.dropna()\n",
    "rating_df = rating_df.reset_index(drop=True)\n",
    "#rating_small = rating_df.sample(frac = 0.01)\n",
    "#r1 = rating_df.head(200)\n",
    "#r1\n",
    "#rating_df[\"movieId\"].value_counts()\n",
    "#rating_df[\"rating\"].value_counts()"
   ]
  },
  {
   "cell_type": "code",
   "execution_count": 4,
   "id": "8d243df8",
   "metadata": {},
   "outputs": [],
   "source": [
    "rate_set = set()\n",
    "for i,j in rating_df.iterrows():\n",
    "    # j[1]: movieId\n",
    "    # j[2]: rating\n",
    "    # print(j[1],j[2])\n",
    "    if j[1] not in rate_set:\n",
    "        rate_set.add(j[1])\n",
    "\n",
    "df_lists = []\n",
    "for i in rate_set:\n",
    "    row = []\n",
    "    summ = rating_df.loc[rating_df[\"movieId\"]== i,\"rating\"].sum()\n",
    "    cnt = rating_df.loc[rating_df[\"movieId\"]== i,\"rating\"].count()\n",
    "    avg = (summ/cnt) * 2\n",
    "    avg = round(avg,1)\n",
    "    row = [int(i),avg]\n",
    "    df_lists.append(row)\n",
    "\n",
    "new_rate = pd.DataFrame(df_lists, columns=[\"id\", \"rating\"])\n",
    "\n",
    "\n",
    "# Reference: \n",
    "# https://stackoverflow.com/questions/28236305/how-do-i-sum-values-in-a-column-that-match-a-given-condition-using-pandas\n",
    "# https://www.w3schools.com/python/ref_func_round.asp"
   ]
  },
  {
   "cell_type": "code",
   "execution_count": 5,
   "id": "e41489db",
   "metadata": {},
   "outputs": [
    {
     "data": {
      "text/html": [
       "<div>\n",
       "<style scoped>\n",
       "    .dataframe tbody tr th:only-of-type {\n",
       "        vertical-align: middle;\n",
       "    }\n",
       "\n",
       "    .dataframe tbody tr th {\n",
       "        vertical-align: top;\n",
       "    }\n",
       "\n",
       "    .dataframe thead th {\n",
       "        text-align: right;\n",
       "    }\n",
       "</style>\n",
       "<table border=\"1\" class=\"dataframe\">\n",
       "  <thead>\n",
       "    <tr style=\"text-align: right;\">\n",
       "      <th></th>\n",
       "      <th>id</th>\n",
       "      <th>rating</th>\n",
       "    </tr>\n",
       "  </thead>\n",
       "  <tbody>\n",
       "    <tr>\n",
       "      <th>0</th>\n",
       "      <td>131072</td>\n",
       "      <td>5.0</td>\n",
       "    </tr>\n",
       "    <tr>\n",
       "      <th>1</th>\n",
       "      <td>1</td>\n",
       "      <td>7.8</td>\n",
       "    </tr>\n",
       "    <tr>\n",
       "      <th>2</th>\n",
       "      <td>2</td>\n",
       "      <td>6.5</td>\n",
       "    </tr>\n",
       "    <tr>\n",
       "      <th>3</th>\n",
       "      <td>3</td>\n",
       "      <td>6.4</td>\n",
       "    </tr>\n",
       "    <tr>\n",
       "      <th>4</th>\n",
       "      <td>4</td>\n",
       "      <td>5.8</td>\n",
       "    </tr>\n",
       "    <tr>\n",
       "      <th>...</th>\n",
       "      <td>...</td>\n",
       "      <td>...</td>\n",
       "    </tr>\n",
       "    <tr>\n",
       "      <th>45110</th>\n",
       "      <td>131062</td>\n",
       "      <td>1.0</td>\n",
       "    </tr>\n",
       "    <tr>\n",
       "      <th>45111</th>\n",
       "      <td>131064</td>\n",
       "      <td>5.5</td>\n",
       "    </tr>\n",
       "    <tr>\n",
       "      <th>45112</th>\n",
       "      <td>131066</td>\n",
       "      <td>6.3</td>\n",
       "    </tr>\n",
       "    <tr>\n",
       "      <th>45113</th>\n",
       "      <td>131068</td>\n",
       "      <td>6.0</td>\n",
       "    </tr>\n",
       "    <tr>\n",
       "      <th>45114</th>\n",
       "      <td>131070</td>\n",
       "      <td>6.6</td>\n",
       "    </tr>\n",
       "  </tbody>\n",
       "</table>\n",
       "<p>45115 rows × 2 columns</p>\n",
       "</div>"
      ],
      "text/plain": [
       "           id  rating\n",
       "0      131072     5.0\n",
       "1           1     7.8\n",
       "2           2     6.5\n",
       "3           3     6.4\n",
       "4           4     5.8\n",
       "...       ...     ...\n",
       "45110  131062     1.0\n",
       "45111  131064     5.5\n",
       "45112  131066     6.3\n",
       "45113  131068     6.0\n",
       "45114  131070     6.6\n",
       "\n",
       "[45115 rows x 2 columns]"
      ]
     },
     "execution_count": 5,
     "metadata": {},
     "output_type": "execute_result"
    }
   ],
   "source": [
    "new_rate"
   ]
  },
  {
   "cell_type": "code",
   "execution_count": 6,
   "id": "57495c17",
   "metadata": {},
   "outputs": [],
   "source": [
    "new_rate.to_csv('new_rate.csv',index = False)"
   ]
  },
  {
   "cell_type": "code",
   "execution_count": null,
   "id": "2fd80d13",
   "metadata": {},
   "outputs": [],
   "source": []
  }
 ],
 "metadata": {
  "kernelspec": {
   "display_name": "Python 3 (ipykernel)",
   "language": "python",
   "name": "python3"
  },
  "language_info": {
   "codemirror_mode": {
    "name": "ipython",
    "version": 3
   },
   "file_extension": ".py",
   "mimetype": "text/x-python",
   "name": "python",
   "nbconvert_exporter": "python",
   "pygments_lexer": "ipython3",
   "version": "3.9.12"
  }
 },
 "nbformat": 4,
 "nbformat_minor": 5
}
