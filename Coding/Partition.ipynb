{
 "cells": [
  {
   "cell_type": "code",
   "execution_count": 500,
   "id": "ccae79b3",
   "metadata": {},
   "outputs": [],
   "source": [
    "import pandas as pd\n",
    "import numpy as np\n",
    "import matplotlib.pyplot as plt\n",
    "import json\n",
    "import requests\n",
    "from imdb import Cinemagoer\n",
    "import pycountry"
   ]
  },
  {
   "cell_type": "markdown",
   "id": "c0be50cd",
   "metadata": {},
   "source": [
    "### Import datasets"
   ]
  },
  {
   "cell_type": "code",
   "execution_count": 517,
   "id": "9849a58d",
   "metadata": {},
   "outputs": [],
   "source": [
    "file = pd.read_csv(\"movies_metadata.csv\", low_memory = False)\n",
    "attrs = [\"id\",\"title\",\"imdb_id\",\"genres\",\"budget\",\"revenue\",\"production_companies\",\"popularity\",\"spoken_languages\",\"release_date\",\"vote_average\",\"vote_count\"]\n",
    "df = file[attrs]\n",
    "df = df.dropna()\n",
    "df = df.reset_index(drop=True)"
   ]
  },
  {
   "cell_type": "code",
   "execution_count": 518,
   "id": "91f3a2e8",
   "metadata": {},
   "outputs": [],
   "source": [
    "for i in range(len(df.release_date)):\n",
    "    df.loc[i,\"release_date\"] = df.release_date[i][:4]\n",
    "df = df.sample(frac = 0.05)\n",
    "#df[\"release_date\"].value_counts()\n",
    "df[\"popularity\"] = df[\"popularity\"].astype(float)\n",
    "df = df.sort_values(by = \"popularity\", ascending = False)\n",
    "df = df.loc[df.popularity > 1]\n",
    "\n",
    "# Reference: \n",
    "# https://pandas.pydata.org/docs/reference/api/pandas.DataFrame.loc.html"
   ]
  },
  {
   "cell_type": "code",
   "execution_count": null,
   "id": "b6338a17",
   "metadata": {},
   "outputs": [],
   "source": []
  },
  {
   "cell_type": "markdown",
   "id": "ec2f56e3",
   "metadata": {},
   "source": [
    "### Create a genres dictionary: {genres_id : name}"
   ]
  },
  {
   "cell_type": "code",
   "execution_count": 519,
   "id": "4975fe82",
   "metadata": {},
   "outputs": [],
   "source": [
    "genres = df.genres\n",
    "genres_dict = {}\n",
    "new_genres = []\n",
    "for i in genres:\n",
    "    i = i.replace(\"'\",'\"')\n",
    "    tmp = json.loads(i)\n",
    "    res = []\n",
    "    for j in tmp:\n",
    "        if j[\"id\"] not in genres_dict:\n",
    "            genres_dict[j[\"id\"]] = j[\"name\"]\n",
    "        res.append(genres_dict[j[\"id\"]])\n",
    "    new_genres.append(res)"
   ]
  },
  {
   "cell_type": "code",
   "execution_count": 520,
   "id": "d5b969af",
   "metadata": {},
   "outputs": [
    {
     "name": "stdout",
     "output_type": "stream",
     "text": [
      "{10751: 'Family', 14: 'Fantasy', 10749: 'Romance', 28: 'Action', 12: 'Adventure', 35: 'Comedy', 878: 'Science Fiction', 53: 'Thriller', 80: 'Crime', 18: 'Drama', 16: 'Animation', 36: 'History', 10752: 'War', 9648: 'Mystery', 27: 'Horror', 10402: 'Music', 37: 'Western', 10770: 'TV Movie', 99: 'Documentary', 10769: 'Foreign'}\n"
     ]
    }
   ],
   "source": [
    "print(genres_dict)"
   ]
  },
  {
   "cell_type": "markdown",
   "id": "57e248d6",
   "metadata": {},
   "source": [
    "### Create a production_company dictionary: {company_id : name}"
   ]
  },
  {
   "cell_type": "code",
   "execution_count": 521,
   "id": "83d64bbf",
   "metadata": {},
   "outputs": [],
   "source": [
    "company = df.production_companies\n",
    "company_dict = {}\n",
    "new_company = []\n",
    "\n",
    "for i in company:\n",
    "    i = i.replace(\"'\",'\"')\n",
    "    try:\n",
    "        tmp = json.loads(i)\n",
    "        res = []\n",
    "        for j in tmp:\n",
    "            if j[\"id\"] not in company_dict:\n",
    "                company_dict[j[\"id\"]] = j[\"name\"]\n",
    "            res.append(company_dict[j[\"id\"]])\n",
    "        new_company.append(res)\n",
    "    except:\n",
    "        new_company.append([])\n",
    "# Reference: \n",
    "# https://www.w3schools.com/python/python_try_except.asp"
   ]
  },
  {
   "cell_type": "code",
   "execution_count": 522,
   "id": "55493df6",
   "metadata": {},
   "outputs": [
    {
     "name": "stdout",
     "output_type": "stream",
     "text": [
      "{2: 'Walt Disney Pictures', 10227: 'Mandeville Films', 420: 'Marvel Studios', 14: 'Miramax Films', 59: 'A Band Apart', 216: 'Jersey Films', 429: 'DC Comics', 923: 'Legendary Pictures', 6194: 'Warner Bros.', 9993: 'DC Entertainment', 9996: 'Syncopy', 16076: 'Newgrange Pictures', 78093: 'Paradox Film 3', 12: 'New Line Cinema', 5219: 'Sunswept Entertainment', 8411: 'Metro-Goldwyn-Mayer (MGM)', 79: 'Village Roadshow Pictures', 372: 'Groucho II Film Partnership', 1885: 'Silver Pictures', 7392: 'Twentieth Century Fox', 4: 'Paramount Pictures', 306: 'Twentieth Century Fox Film Corporation', 574: 'Lightstorm Entertainment', 3: 'Pixar Animation Studios', 737: 'Sidney Kimmel Entertainment', 10138: 'Double Nickel Entertainment', 4564: 'Icon Entertainment International', 7965: 'The Ladd Company', 11353: 'B.H. Finance C.V.', 436: '1492 Pictures', 2575: '21 Laps Entertainment', 20478: 'Moving Picture Company (MPC)', 22213: 'TSG Entertainment', 1632: 'Lionsgate', 3528: 'Thunder Road Pictures', 33681: 'Black Label Media', 10254: 'Millennium Films', 94362: 'Nu Image Bulgaria', 171: 'Malpaso Productions', 7383: 'Kennedy/Marshall Company, The', 7493: 'FilmNation Entertainment', 28732: 'RatPac Entertainment', 65359: 'Flashlight Films', 449: 'Virtual Studios', 2994: 'Hollywood Gang Productions', 2995: 'Atmosphere Entertainment MM', 7636: 'Nimar Studios', 78685: 'Cruel and Unusual Films', 787: '3 Arts Entertainment', 6734: 'Bay Films', 19108: 'Latina Pictures', 19477: 'Dune Films', 27: 'DreamWorks SKG', 520: 'Pacific Data Images (PDI)', 521: 'DreamWorks Animation', 9195: 'Touchstone Pictures', 33: 'Universal Pictures', 308: 'The Weinstein Company', 6817: 'Zehnte Babelsberg', 6818: 'Visiona Romantica', 78370: 'La Canica Films', 85573: 'Agosto la Película', 5: 'Columbia Pictures', 4021: 'The Halcyon Company', 4022: 'Wonderland Sound and Vision', 491: 'Summit Entertainment', 9078: 'Constantin Film.', 7662: 'Epic Pictures Group', 19324: 'Timpson Films', 62055: 'EMA Films', 3166: 'Walt Disney Productions', 10282: 'Silver Screen Partners IV', 10535: 'All Girl Productions', 1171: 'Epsilon Motion Pictures', 1403: 'Franchise Pictures', 1645: 'Scott Free Productions', 7692: 'World 2000 Entertainment', 11345: 'Stillking Films', 19951: 'ApolloProMedia GmbH & Co. 1. Filmproduktion KG (I)', 19952: 'QI Quality International GmbH & Co. KG', 735: 'Waverly Films', 630: 'IPC Films', 508: 'Regency Enterprises', 644: 'Alcor Films', 7380: 'Initial Entertainment Group (IEG)', 7381: 'Alberto Grimaldi Productions', 41: 'Orion Pictures', 60: 'United Artists', 87394: 'Suftley', 56: 'Amblin Entertainment', 559: 'TriStar Pictures', 23434: 'Big Bug Pictures', 43: 'Fox Searchlight Pictures', 1143: 'Sound for Film', 10163: 'Working Title Films', 23912: 'Antidote Films (I)', 146: 'Handmade Films Ltd.', 10932: 'The Criterion Collection', 23397: 'Donner/Shuler-Donner Productions', 245: 'Cowboy Films', 11594: 'Passion Pictures', 16877: 'BFI Film Fund', 10209: 'Rai Tre Radiotelevisione Italiana', 130: 'Jerry Bruckheimer Films', 11273: 'Circle Films', 8858: 'NetFlix', 55570: 'Campfire', 37451: 'Sigma Cinematografica Roma', 1236: 'Mandalay Entertainment', 90512: 'Don Bluth Productions', 22119: 'Lennox House Films', 35: 'Lions Gate Films', 6455: 'Edward R. Pressman Film', 15231: 'Muse Productions', 3978: 'Robert Stigwood Organization (RSO)', 7220: 'Capcom', 178: 'Ghoulardi Film Company', 93105: 'IAC Films', 2441: 'Fandango', 2683: 'Rai Cinema', 35043: 'Destro Films', 37432: 'Bow and Arrow Entertainment', 41608: 'Productivity Media', 62709: 'Concourse Media', 92469: 'StarStream Media', 92470: 'Dublab Media', 92471: 'Exhibit', 92472: 'Foton Pictures', 435: 'Di Bonaventura Pictures', 9987: 'Lipsync Productions', 12075: 'Silver Reel', 20473: 'Czech Anglo Productions', 32554: 'Bloom', 94135: 'SRA Productions', 1950: 'New World Pictures', 10170: 'Cinemarque Entertainment', 158: 'Spyglass Entertainment', 2242: 'Everyman Pictures', 2243: 'Hammer & Tongs', 2092: 'Mike Zoss Productions', 5870: 'Studio Canal', 7295: 'Relativity Media', 10146: 'Focus Features', 729: 'Why Not Productions', 2481: 'Platinum Dunes', 3172: 'Blumhouse Productions', 1001: 'Solaris Film', 6573: 'Mimran Schur Pictures', 12425: 'Filmtribe', 7405: 'Dimension Films', 97: 'Castle Rock Entertainment', 172: 'NPV Entertainment', 7293: 'DreamWorks Pictures', 16061: 'Baltimore Spring Creek Productions', 25473: 'Nu Image / Millennium Films', 4319: '40 Acres & A Mule Filmworks', 5550: 'Midwinter Productions Inc.', 7576: 'Eon Productions', 711: 'Fox 2000 Pictures', 1302: 'Davis Entertainment', 13184: 'Annapurna Pictures', 17009: 'Universal 1440 Entertainment', 5754: 'Rat Pack Filmproduktion', 5755: 'Constantin Film Produktion', 856: 'Wild Bunch', 1926: 'Les Films Du Fleuve', 7281: 'British Film Institute (BFI)', 8147: 'Entertainment One', 12695: 'Sixteen Films', 15130: 'Urania Pictures S.r.l.', 2691: 'Infinitum Nihil', 37380: 'Silver Bullet Productions (II)', 37381: 'Blind Wink Productions', 37382: 'Classic Media', 9: 'Gaumont', 314: 'Uni Etoile 2', 2490: 'LGM Productions', 3823: 'TF1 Films Production', 5358: 'Canal+', 6301: 'CinéCinéma', 10891: 'KL Productions', 2537: 'Kennedy Miller Productions', 507: 'Atlas Entertainment', 1785: 'Likely Story', 7571: 'LionsGate', 45358: 'Merced Media Partners', 49152: 'PalmStar Media', 76: 'Zentropa Entertainments', 8288: 'Zentropa International Sweden', 17513: 'Film i Väst', 20153: 'Film 44', 36209: 'OddLot Entertainment', 831: 'Saturn Films', 8000: 'Broken Road Productions', 19097: 'Junction Entertainment', 806: 'Téléfilm Canada', 2335: 'Film 4', 3353: 'Element Pictures', 5267: 'Irish Film Board', 35846: 'No Trace Camping', 41077: 'A24', 82552: 'Elevation Pictures', 793: 'Galatée Films', 1168: 'Novo Arturo Films', 7981: 'Pathé', 15671: 'France 2 Cinéma', 16804: 'France 3 Cinema', 23066: 'Logline Studios', 23067: 'Blue Screen Productions', 829: 'Vertigo Entertainment', 16313: 'Open Road Films (II)', 76314: 'Riverstone Pictures', 7076: 'Chernin Entertainment', 126: 'Lakeshore Entertainment', 746: 'MTV Films', 6041: 'Colossal Pictures', 11533: 'Valhalla Motion Pictures', 11534: 'MTV Productions', 16778: 'Jaquet', 427: 'PSO International', 496: 'David Foster Productions', 2090: 'Motion Picture Corporation of America', 10308: 'Dino De Laurentiis Company', 75480: 'Media Transactions', 12178: 'Red Hour Films', 19354: 'Mediastream Vierte Film GmbH & Co. Vermarktungs KG', 6302: 'Room 101', 15159: 'Snoot Entertainment', 88016: 'Hurwitz Creative', 11391: 'Tribeca Productions', 6735: 'Participant Media', 16945: 'Red Crown Productions', 2251: 'Sony Pictures Animation', 267: 'Beverly Detroit', 278: 'Propaganda Films', 1274: 'Clinica Estetico', 8856: 'Intermedia', 10565: 'Good Machine', 23227: 'Magnet Productions', 528: 'Bandai Visual Company', 769: 'Destination Films', 3153: 'Sunrise', 7122: 'Emotion', 11596: 'Bones', 68620: 'Good Films', 8992: 'Scanbox', 21437: 'Imperial Entertainment', 22249: 'Shah/Jensen', 307: 'IFC Films', 1615: 'Fortissimo Films', 2173: 'Great Oaks Entertainment', 500: 'Goldcrest Films International', 502: 'International Film Investors', 7049: 'Enigma Productions', 3281: 'GK Films', 6899: 'Henceforth', 21923: 'Projection Pictures', 43792: 'London Boulevard', 20313: 'Venture Forth', 22632: 'Verisimilitude', 36186: 'Bersin Pictures', 58550: 'Deerjen Films', 2608: 'Happy Madison Productions', 3045: 'Sony Pictures Releasing', 46221: 'Zookeeper Productions', 46222: 'Hey Eddie', 6363: 'BenderSpink', 53060: 'David Dobkin Productions', 6421: 'Disney', 15829: 'Pacific Standard', 93542: 'bob industries', 1575: 'Lewis Gilbert Productions', 7304: 'Modern VideoFilm', 7816: 'Gray Film', 13800: 'Gaumont Distribution', 21172: 'Alter Films', 30847: 'Specta Films', 93469: 'Film del Centauro', 93470: 'Cady Films', 433: 'Weed Road Pictures', 675: 'Forward Pass', 12485: 'Overbrook Entertainment', 28064: 'Blue Light', 41756: 'GH Three', 6666: 'Herrick Entertainment', 8536: 'Leverage Management', 8537: 'Closest to the Hole Productions', 10405: 'Emmett/Furla Films', 11030: 'Envision Entertainment Corporation', 21897: 'Foresight Unlimited', 22610: 'Hollywood Studios International', 22611: 'Spikings Entertainment', 564: 'Industrial Development Corporation of South Africa', 6715: 'K5 International', 11565: 'The Safran Company', 13696: 'Forefront Media Group', 21917: 'Efish Entertainment', 23923: 'Skyline Motion Picture Fund', 23924: 'Picture Tree', 10221: 'Walden Media', 10246: 'Cross Creek Pictures', 40106: 'Free State Pictures', 62693: 'RVK Studios', 77471: 'Gaeta / Rosenzweig Films', 333: 'Original Film', 966: 'Monarch Pictures', 7302: 'Filmax Entertainment', 7956: 'Castelao Producciones', 9335: 'Canal+ España', 9974: 'Instituto de la Cinematografía y de las Artes Audiovisuales (ICAA)', 52107: 'ICF', 290: 'Ingenious Media', 7307: 'Medienboard Berlin-Brandenburg', 7485: 'Fox International Productions', 8569: 'Dayday Films', 11746: 'Daybreak Productions', 11747: 'Prime Universe Productions', 34396: 'Giant Pictures', 45198: 'Deutscher Filmförderfonds (DFFF)', 86352: 'Québec Production Services Tax Credit', 694: 'StudioCanal', 163: 'Revolution Films', 11448: 'Exclusive Media Group', 31922: 'Double Negative', 1382: 'PolyGram Filmed Entertainment', 2514: 'Alliance Films', 7320: 'Telefilm Canada', 7799: 'TF1 International', 414: 'Fountainbridge Films', 415: 'Laurence Mark Productions', 441: 'Columbia Pictures Corporation', 50830: 'Finding Forrester Productions', 1507: 'International Production Company', 2364: 'The Montecito Picture Company', 3929: 'Robert Simonds Productions', 475: 'JD Productions', 12087: 'Angry Films', 19352: 'Mediastream Dritte Film GmbH & Co. Beteiligungs KG', 20042: 'Mann/Caan Productions', 788: 'Bel Air Entertainment', 5653: 'Ilion Animation Studios', 12297: 'Hand Made Films', 10201: 'Interscope Communications', 38085: 'VBT Productions', 38086: 'Ballpark Productions Partnership', 12668: 'Arthur Freed Production', 3970: 'Handistom Investment', 4255: 'Kings Road Entertainment', 68152: 'Kamisha Corporation', 297: 'Aardman Animations', 7311: 'Kerner Entertainment Company', 1757: 'Mad Chance', 39649: 'Huayi Brothers Media', 1163: 'Larger Than Life Productions', 50481: 'Vendian Entertainment', 50482: 'Route One Films', 3213: 'Disney Channel', 13: 'Universal Studios', 484: 'De Laurentiis Entertainment Group (DEG)', 10898: 'Légende Entreprises', 11583: 'Syalis DA', 11584: 'De Fina-Cappa', 34951: 'Stardust Pictures', 47330: 'Dot Dot Dot Productions', 3799: 'MDP Filmproduktion', 599: 'Solar Productions', 4376: 'First Artists', 93222: 'Foster-Brower Productions', 13742: 'General Film Corporation', 497: 'Revolution Studios', 4777: 'Ozla Productions', 763: 'Intermedia Films', 932: 'Mirage Enterprises', 2394: 'Artina Films', 19369: 'Procinvest Sas', 66497: 'Mirabelle Pictures Productions', 804: 'Natural Nylon Entertainment', 1668: 'Riff Raff Film Productions', 4753: 'Filmauro', 10671: 'Blue Flower Productions', 10672: 'Brooklyn Films II', 2087: 'Blackfriars Bridge Films', 2088: 'NALA Films', 2089: 'Samuels Media', 11509: 'Warner Independent Pictures (WIP)', 21513: 'Ce Qui Me Meut', 21514: 'Opposite Field Pictures', 21515: 'Compagnie Cinématographique', 21516: 'La Panache Productions', 925: 'Nu Image Films', 8880: 'Winkler Films', 882: 'Toho Company', 7912: 'Sedic International', 4258: 'Fortis Films', 73951: 'Classic Media Productions', 73952: 'Bullwinkle Studios', 1765: 'Turner Pictures', 11462: 'Alphaville Films', 69626: 'Tales From The Crypt Holdings', 1301: 'Joseph M. Singer Entertainment', 10102: 'Cattleya', 65517: 'La Chouve', 258: 'Scott Rudin Productions', 18: 'Gracie Films', 1314: 'Hammer Film Productions', 826: 'Capitol Films', 2286: 'Linsefilm', 2287: 'Unity Productions', 2288: 'Michael Cerenzie Productions', 11542: 'Funky Buddha Productions', 2885: 'Starz Animation', 551: 'Mandalay Pictures', 3256: 'Lightning Entertainment', 8456: 'Mainline Releasing', 47: 'Constantin Film', 30: 'Eddie Murphy Productions', 10288: 'Don Simpson/Jerry Bruckheimer Films', 11407: 'Baltimore Pictures', 76359: 'Water', 76360: 'Purple Films', 34: 'Sony Pictures', 7263: 'FilmDistrict', 181: 'Channel Four Films', 903: 'David Brown Productions', 65781: 'Fat Free', 2452: 'UK Film Council', 6417: 'Film i Väst', 8989: 'Talisman Productions', 18230: 'Filmgate Films', 289: 'Ingenious Film Partners', 444: 'Dune Entertainment', 3477: 'Star Overseas', 6332: 'Dune Entertainment III', 10893: 'Big Screen Productions', 81135: 'World Film Magic', 31229: 'Cinéfrance 1888', 32714: 'Albertine Productions', 19098: 'Green Hills Productions', 4532: 'Superior Pictures', 15524: 'Lewis Milestone Productions', 635: 'Les Films Alain Sarde', 778: 'Las Producciones del Escorpion', 779: 'Lucky Red', 20295: 'Sociedad General de Televisión (Sogetel)', 1786: 'Dark Castle Entertainment', 23503: '13 Ghosts Productions Canada Inc.', 58: 'Sony Pictures Classics', 6320: 'Hwy61', 7299: 'Corsan', 11921: 'Le Tax Shelter du Gouvernement Fédéral de Belgique', 12032: 'Apulia Film Commission', 21212: 'Italian Tax Credit', 32874: 'Volten', 32875: 'Lailaps Pictures', 88044: 'Filmfinance XII', 11387: 'Les Artistes Anonymes', 1607: 'Gold/Miller Productions', 2645: 'Guy Walks into a Bar Productions', 2521: 'Golden Harvest Company', 3618: 'Film Workshop', 5551: 'Long Shong Pictures', 5552: 'Media Asia Films', 38944: 'Clavius Base', 2605: 'Gran Via Productions', 11627: 'Necropia', 11628: 'Tequila Gang', 16978: 'Lightmotive', 39288: 'Gotham Entertainment Group', 288: 'BBC Films', 11672: 'Nimbus Film Productions', 12412: 'La Belle Allee Productions', 12413: 'NWR Film Productions', 12414: 'One Eye Production', 12415: 'Savalas Audio Post-Production', 125: 'Danish Film Institute', 486: 'Portobello Pictures', 850: 'Eurimages', 6476: 'Canal+ Polska', 6477: 'Opus Film', 11240: 'Polski Instytut Sztuki Filmowej', 44171: 'Phoenix Film Investments', 72682: 'City of Lodz', 72683: 'Phoenix Film Poland', 32299: 'Blue-Tongue Films', 47729: 'STX Entertainment', 69542: 'Ahimsa Films', 123: 'Trust Film', 8689: 'An Olive Branch Productions', 8690: 'Rollercoaster Entertainment', 8691: 'Vortex Words Pictures', 8692: 'Hannibal Pictures', 11801: 'Trigger Street Productions', 36028: 'Bagman (2009)', 36029: 'MCG', 2811: 'Neo Art & Logic', 7619: 'Dimension Extreme', 15345: 'Puzzlebox Films', 1131: 'Rizzoli Films', 3570: 'Seda Spettacoli', 4253: 'Don Carmody Productions', 8583: 'Minds Eye Entertainment', 2213: 'Rainmaker Entertainment', 55455: 'Hollandia Filmproductions', 118: 'Det Danske Filminstitut', 119: 'Danmarks Radio (DR)', 851: 'MEDIA Programme of the European Union', 3221: 'Sveriges Television (SVT)', 7446: 'Svenska Filminstitutet (SFI)', 8555: 'Nordisk Film- & TV-Fond', 74636: 'Film Väst', 5420: 'Color Force', 6692: 'Benaroya Pictures', 14861: 'Before the Door Pictures', 14862: 'Washington Square Films', 46225: 'Untitled Entertainment', 4053: 'Enlight Pictures', 120: 'Scorsese Productions', 8104: 'Ambient Entertainment GmbH', 1080: 'Beta Film', 1147: 'Madeleine Films', 14680: 'Parc Film', 11667: 'Northern Ireland Screen', 63443: 'The Fyzz Facility', 73310: 'Fyzz Facility Film One, The', 75838: 'Goldcrest', 6: 'RKO Radio Pictures', 915: 'Hollywood Pictures', 8830: 'Touchwood Pacific Partners 1', 2233: 'Bristol Bay Productions', 4171: 'Playtone', 11262: 'Imagine Films Entertainment', 27319: 'Jagged Films', 10355: 'Spelling Films', 1038: 'Bazelevs Production', 8601: 'Tim Burton Productions', 36430: 'Abraham Productions', 36431: 'Location Gourmet', 828: 'Ultra Films', 1992: 'La Petite Reine', 6586: 'TPS Star', 11473: 'A.J.O.Z. Films', 19233: '120 Films', 19234: 'Crystalcreek Ltd.', 55133: 'Monfort Producciones', 191: 'Senator Film Produktion', 3244: 'Media Pro Pictures', 4176: 'Nord-Ouest Productions', 10441: 'The Bureau', 11773: 'Artémis Productions', 17873: 'Les Productions de la Guéville', 284: 'DNA Films', 10081: 'Spark Media', 21125: 'Detention Films', 10330: 'Universal International Pictures (UI)', 4626: 'CineEvelyn', 10038: 'Square Enix', 75080: 'Digic Pictures', 75081: 'Image Engine Design', 7437: 'IM Global', 7625: 'Automatik Entertainment', 9015: 'Worldview Entertainment', 9016: 'Between The Eyes', 10056: 'Cunningham & Maybach Films', 10057: 'FilmHaven Entertainment', 10058: 'BorderLine Films', 10059: 'This Is That Productions', 2248: 'A-Mark Entertainment', 19241: 'Acme Shark', 57748: 'Kawoosh! Productions DTV II', 57749: 'MGM Global Holdings', 11785: 'Alcove Entertainment', 11786: 'Attercop Productions', 219: 'The Mirisch Corporation', 23: 'Imagine Entertainment', 8: 'Fine Line Features', 579: 'Alliance Communications', 10280: 'Arc Productions', 5752: 'Sony Pictures Entertainment', 5132: 'Von Vietinghoff Filmproduktion', 8138: 'Vega Film', 8453: 'Télévision Suisse-Romande (TSR)', 55475: 'Mozgókép Innovációs Társulás és Alapítvány', 59873: 'Magyar Televízió', 17825: 'Seagal/Nasso Productions', 21480: 'Victor Company of Japan (JVC)', 63906: 'Cutting Edge Films', 16323: '20th Century Fox Television', 3847: 'Shaler Entertainment Pictures', 19342: 'Parallel Entertainment', 52071: 'Sleeping Marmots Production', 52072: 'Samwilla Productions', 49389: 'Broad Green Pictures', 53009: 'Miramax', 2812: 'Lion Rock Productions', 419: 'Embassy Pictures Corporation', 1296: 'Crossbow Productions', 72060: 'Horseshoe Films', 72061: 'A Ticklish Tale', 72062: 'Fumes Production', 26423: 'BrownHouse Productions', 65559: 'Bottom of the Ninth Productions', 2780: 'Cube Vision', 2520: 'Arclight Films', 61106: 'Pure Dopamine', 83037: 'shanghai gigantic pictures', 83038: 'adme', 83039: 'blue budgie filims', 45726: 'Banter', 1115: 'M6 Films', 2902: 'SND', 6454: 'Caméra One', 7561: 'Nexus Factory', 9053: 'Ouille Productions', 10611: 'Ciné+', 19037: 'Umedia', 23497: 'Pulsar Productions', 34774: 'W9', 4819: 'Cineman Productions', 23846: 'Harbour Productions Limited', 5056: 'Head Gear Films', 25954: 'Metrol Technology', 60622: 'Tempo Productions Limited', 61770: 'Salon Pictures', 12646: 'The Badham-Cohen Group', 2061: 'Twisted Pictures', 53962: 'Catacombs Productions', 1422: 'Killer Films', 1088: 'Alcon Entertainment', 134: 'Rogue Pictures', 17517: 'One More Pictures', 10103: 'Via Rosa Productions', 81131: 'Rosa Productions', 14160: 'Jaffilms Inc.', 1787: 'Central Cinema Company Film', 1788: 'Irving Allen Productions', 5940: 'Avala Film', 23449: 'American Empirical Pictures', 19638: 'Altitude Film Entertainment', 19639: 'Film House Germany', 39734: 'Ketchup Entertainment', 44224: 'Egoli Tossell Film', 62407: 'Bavaria Film Partners', 62408: 'Subzero Film Entertainment', 62409: 'VisionPlus Fund I', 62410: 'Waterstone Entertainment', 2634: 'Andertainment Group', 2635: 'Crescent City Pictures', 2636: 'Tag Entertainment', 3121: 'Stan Winston Productions', 3539: 'Odyssey Entertainment', 8719: 'Isle of Man Film Commission', 18361: 'SWFX', 1436: 'Ugly Duckling Films', 29303: 'Bellanova Films', 13235: 'Media House Capital', 1317: 'Charles K. Feldman Group', 11757: 'Produzioni Intersound', 13122: 'Productora Filmica Real', 59566: 'Skyhook Productions', 59567: 'Cloverhill Pictures', 59568: 'Perspective Productions', 37845: 'Principato-Young Entertainment', 7486: 'American Film Company', 381: 'Campanile Productions', 382: 'Newman-Foreman Productions', 2499: 'The Kushner-Locke Company', 7339: 'Hyperion Pictures', 931: 'HAL Films', 494: 'AVCO Embassy Pictures', 22540: 'New Breed Productions', 4949: 'Del Duca Films', 4950: 'Antares Produzione Cinematografica', 6530: 'Lifetime Television', 11073: 'Sony Pictures Television', 7086: 'Universal Pictures International', 11276: 'United States Pictures', 704: 'Initial Entertainment Group', 2779: 'Blue Star Pictures', 2877: 'Living Films', 2878: 'Bangkok Dangerous', 364: 'The Rank Organisation', 5654: 'DJ Films', 12657: 'Production I.G.', 360: 'Geffen Pictures', 9217: 'Pioneer Pictures', 16853: 'Rook Films', 3330: 'Chloe Productions', 3331: 'TPW Films', 3332: 'Wiseau-Films', 1063: 'Brightlight Pictures', 4251: 'Anagram Pictures Inc.', 11550: 'Corus Entertainment', 23654: 'Etch Media', 23655: 'Artifact Films', 57092: 'Weintraub International Group', 12975: 'Ponty Up Pictures', 12976: 'Shadow Shows', 886: 'Kinokompaniya CTB', 1972: 'X-Filme Creative Pool', 11996: 'Andreevsky Flag Film Company', 16522: 'Kinofabrika', 16524: 'Eurasia Film Production', 1953: 'De Haven Productions', 2595: 'The Associates & Aldrich Company', 7159: 'Star-Film', 11895: 'Artificial Eye', 1246: 'River Road Entertainment', 59952: 'Morra, Brezner, Steinberg and Tenenbaum Entertainment (MBST)', 59955: 'Burro Productions', 4288: 'Madhouse', 24035: 'Tokyo Godfathers Production Committee', 31114: 'LightWave Entertainment', 31115: 'Eastlake Films', 14579: 'Corsair Pictures', 53379: 'Firecracker Company', 53380: 'Guadalupe Productions', 14159: 'Seven Arts Pictures', 14723: 'Carolco Pictures', 2775: 'American Eagle', 9034: 'Stone River Productions', 9036: 'Taylor Lane Productions', 18903: 'Lighthouse Home Entertainment', 152: 'Icon Productions', 11732: 'Airborne Productions', 11037: 'EFVE', 11493: 'National Film Finance Corporation (NFFC)', 11494: 'Curzon Film Distributors', 17067: 'CineTel Pictures', 17068: 'MG Entertainment', 12689: 'Radar Films', 29060: 'Process Media', 29061: 'Love Punch', 7429: 'HBO Films', 11308: 'Savoy Pictures', 5888: 'Walt Disney', 156: 'Nordic Film', 2737: 'Davis-Panzer Productions', 2739: 'Sequence Film', 49325: 'Parkes+MacDonald Image Nation', 67173: 'Blue Train Productions', 24996: 'Storm Entertainment', 40866: 'MUSE/Wyman', 1633: 'Next Entertainment', 2253: 'Lawrence Bender Productions', 3615: 'BIG Pictures', 31473: 'Mob Scene Creative Productions', 124: 'Südwestrundfunk', 8697: 'Salzgeber & Company Medien', 8707: 'MFG Filmförderung Baden-Württemberg', 7832: 'CiBy 2000', 11736: 'El Deseo S.A.', 6724: 'Upload Films', 4169: 'Kanzaman', 5237: 'The Saul Zaentz Company', 11737: 'Antena 3 Televisión', 57206: 'Xuxa Producciones S.L.', 6716: 'Zanuck Independent', 83497: 'Producer Capital Fund', 83498: 'Code 39 Films', 1124: 'P.A.C.', 22396: 'Société Nouvelle des Établissements Gaumont (SNEG)', 22663: 'P.C.M. FIlm', 3495: 'Steamroller Productions', 23308: 'Victor & Grais Productions', 10226: 'Smartest Man Productions', 23596: 'Paul Schiff Productions', 2526: 'Kickstart Productions', 5706: 'Mythic International Entertainment', 23607: 'Raindance Entertainment', 13252: 'Marvel Animation', 5253: 'NBC Productions', 12197: 'Portobello Studios', 805: 'Serendipity Point Films', 12467: 'Nomadic Pictures', 1847: 'Adder', 4503: 'Neue Road Movies', 18999: 'Montauk Productions', 19000: 'Göta Film', 13672: 'The Onion', 6789: 'Mulmur Feed Company', 3448: 'ITV', 418: 'New South Wales Film & Television Office', 4024: 'Pacific Film and Television Commission', 7584: 'Screen Australia', 25463: 'The Silence Productions', 25467: 'Lucky Country Productions', 6453: 'Studio Trite', 12247: 'thinkfilm', 20011: 'SprocketHeads', 22826: 'Hasbro Studios', 76043: 'Revolution Sun Studios', 22997: 'Légende Films', 73335: 'Lunacy Unlimited Productions', 73336: 'Blue & Grey Film Ventures', 86249: 'Karbonshark', 86250: 'WeBros Entertainment', 4357: 'The Guber-Peters Company', 5418: 'Alligator Inc', 44615: 'Gullane Entretenimento S.A.', 47462: 'África Filmes', 703: 'Razor Film Produktion GmbH', 84788: 'Highlook Communications Group', 84789: 'Rotana Film Production', 84790: 'Dubai Entertainment and Media Organization', 5897: 'Toho', 2070: 'Rastar Pictures', 10210: 'Morgan Creek Productions', 22351: 'The Canton Company', 89132: 'AE Two Film Productions', 89133: 'Angel Eyes Productions', 7364: 'Heyday Films', 15278: 'British Broadcasting Corporation (BBC)', 31807: 'Carnival Films & Television', 33473: 'Masterpiece', 46340: 'Runaway Fridge TV', 52826: 'Two to Tangle Productions', 1638: 'Francoriz Production', 12778: 'Rizzoli Film', 2348: 'Nickelodeon Movies', 24955: 'Paramount Animation', 2570: 'Bona Fide Productions', 12808: 'Big Beach Films', 3912: 'Larande Productions', 15479: 'Scream HQ', 1284: 'Hisa-Film', 5387: 'Atlantic Pictures', 7499: 'Gigi Productions', 7633: 'Lila 9th Productions', 20913: 'Windward Entertainment', 5996: 'BBC', 8400: 'Science Channel', 11486: 'Picturehouse Entertainment', 33805: 'Triggerfish Animation', 6246: 'Medusa Film', 8724: 'Australian Film Finance Corporation (AFFC)', 93441: 'Gecko Films', 4912: 'Big Fan Productions', 619: 'Terra-Filmkunst GmbH', 1137: 'S.N. Prodis', 1504: 'Cinergi Pictures Entertainment', 174: 'Warner Bros. Pictures', 2785: 'Warner Bros. Animation', 7899: 'Cartoon Network Studios', 5726: 'Universal Pictures International (UPI)', 6538: 'Antena 3 Films', 8530: 'Televisió de Catalunya (TV3)', 11427: 'Instituto de Crédito Oficial (ICO)', 11428: 'Mesfilms', 16055: 'Generalitat de Catalunya - Institut Català de les Indústries Culturals (ICIC)', 21972: 'Media Programme of the European Community', 27564: 'Instituto de la Cinematografía y de las Artes Audiovisuales (ICAA)', 32814: 'Catalan Film and Television', 6313: 'Weintraub Entertainment Group', 23267: 'Elrina Investment', 8518: 'LBI Entertainment', 23513: 'Ombra Films', 43528: 'Accelerator Films', 43529: 'Great Southern Land Entertainment', 43531: 'RMB Productions', 16775: 'Arnold Kopelson Productions', 12622: 'Darko Entertainment', 918: 'Films 66', 1415: 'Capitolina Produzioni Cinematografiche', 16352: 'Mara Films', 1657: 'Greenwich Film Productions', 28205: 'Samuel Goldwyn Company, The', 1602: 'Les Productions Fox Europa', 1603: 'Les Films du Siècle', 6220: 'Mattel', 798: 'Samuel Goldwyn Company', 23022: 'Close Call Films', 2755: 'Dante Entertainment', 6370: 'Quinta Communications', 22006: 'Cinema Holdings', 22007: 'Lionweed', 200: 'Corazón International', 6419: 'Biograf Jan Svěrák', 1107: 'Seven Pictures', 4340: 'Claussen Wöbke Putz Filmproduktion', 22787: 'Caligari Film- und Fernsehproduktions', 22788: 'Vega Film GmbH', 1138: 'Filmways Pictures', 2532: 'Batjac Productions', 12187: 'The Alamo Company', 2585: 'ICE3', 5385: 'Dong Woo Animation', 7979: 'Darclight Films', 238: 'Rai Cinemafiction', 855: 'Titti Film', 15139: 'Tele+', 29223: 'Ministero per i Beni e le Attività Culturali (MiBAC)', 46654: 'Filmstudio', 54659: 'Athos Films', 63558: 'Chaumiane', 70: 'American Zoetrope', 5231: 'Cineplex-Odeon Films', 19754: 'Associates & Aldrich Company, The', 1473: 'Depth of Field', 14358: '1821 Pictures', 19802: 'Ren Film', 692: 'Sogecine', 14688: 'Alicia Produce', 3150: 'Virgin Films', 20076: 'HandMade Films', 1795: 'Corona Filmproduktion', 9266: 'American International Pictures (AIP)', 53630: 'Aica Cinematografica S.R.L', 78765: 'Etablissement Sargon', 94: 'ARTE France Cinéma', 3012: 'Pathé Distribution', 294: 'New Zealand Film Commission', 13160: 'Severe Features', 45979: 'Chameleon Pictures', 7356: 'Viacom 18 Motion Pictures', 60536: 'Nadiadwala Grandson Entertainment', 2244: 'Millennium Pictures', 82: 'Renn Productions', 6187: 'ARD/Degeto Film GmbH', 6541: 'D.A. Films', 7089: 'France2 Cinéma', 8923: 'WMG Film', 18367: 'Centre National de la Cinématographie (CNC)', 18495: 'N.E.F. Filmproduktion und Vertriebs GmbH', 75913: 'RCS Films & TV', 2542: 'Nick Wechsler/Miracle Pictures', 2543: 'Volume One Entertainment', 1704: 'Bavaria Film', 11447: 'Mercury Productions', 53220: 'Sevilla Films', 53221: 'Filmorsa', 53222: 'Cervantes Films', 10462: 'WT2 Productions', 5125: 'Le Pacte', 3506: 'Pioneer Productions', 7521: 'National Geographic', 4205: 'Groundswell Productions', 5051: 'Faso Film', 7454: 'France Télévision', 7460: 'Vendome Pictures', 12100: 'Palatine Étoile 9', 20655: 'Sofica A Plus Images 3', 40274: 'Dévelopimage', 376: 'Industry Entertainment', 33306: 'Nicolas Entertainment', 5612: 'Brooksfilms', 52465: 'Quiet Man Productions', 8924: 'RabbitBandini Productions', 50478: 'Windowseat Films', 84803: 'Aviacsa', 84804: 'Cinevista', 7036: 'CJ Entertainment', 2965: 'Boram Entertainment Inc.', 5419: 'Edgewood Productions', 2185: 'National Cinematografica', 4269: 'Nuova Dania Cinematografica', 44425: 'ML Delphi Premier Productions', 5574: 'Modernciné', 7660: 'Canonigo Films', 9968: 'Black Flag', 50491: 'Capacity Pictures', 4894: 'Associated British-Pathé', 1796: 'Coralta Cinematografica', 33467: 'Cinema Seven Film', 89137: 'Second Street Films', 18977: '20ten Media', 27376: 'STS Media', 3996: 'Mandalay Television', 11717: 'The Twelve Chairs Company', 53874: 'Sigma Films', 4952: 'Canadian Film Development Corporation (CFDC)', 16914: 'Famous Players Limited', 25762: 'Selta Films', 25765: 'International Cinema Corporation (ICC)', 25766: 'Cine-Neighbor', 6116: 'Argos Films', 2140: 'Aamir Khan Productions', 2934: 'Excel Entertainment', 4615: 'Ubisoft', 48583: 'IMAX Space Ltd.', 705: 'Spring Creek Productions', 16368: 'Hawn / Sylbert Movie Company', 5790: 'Pittsburgh Films', 13212: 'Chata Pictures', 14262: 'Templeheart Films', 14355: 'Press On Features', 22935: 'Silver Town Films', 22936: 'Sir Dark Knight Productions', 7585: 'Delphi II Productions', 4306: 'Instinctive Film', 10161: 'Gilbert Films', 71806: 'Enumerated Pictures', 2108: 'Battleplan Productions', 22289: 'Moonstone Entertainment', 2181: 'Babylonian Productions', 5730: 'Turner Network Television (TNT)', 16326: 'Ranown Pictures Corp.', 242: 'GF Studios AB', 2495: 'Lefwander Kapitalförvaltning AB', 7937: 'Sonet Film AB', 18938: 'Eclectic Films', 1037: 'Les Films du Livradois', 22062: 'Yellow Brick Films', 37004: 'Emedia Films', 5224: 'Once Bitten Films', 1877: 'Café Film', 1878: 'Bonfire', 2188: 'Artisan Entertainment', 20319: 'Social Construct', 63349: 'Bitter Films', 3287: 'Screen Gems', 13419: 'SKA Films', 57736: 'Codi S.p.a.', 8685: 'Eficine 226', 15877: 'Beanca Films', 15878: 'Fondo de Inversión y Estímulos al Cine (FIDECINE)', 18715: 'MPN Cologne Film 3', 6918: 'Bandaï Media Department', 6919: 'Shochiku-Fuji Company', 46043: 'Allarts Enterprises', 8828: 'Norman Twain Productions', 1380: 'Australian Film Finance Corporation', 2806: 'South Australian Film Corporation', 8081: 'Last Ride', 11840: 'Film Victoria', 15089: 'Talk Films', 4063: 'Trimark Pictures', 1554: 'Transatlantic Pictures', 4284: 'Century Films', 39647: 'Movie Partners', 1411: 'Gekko Film', 1446: 'Paramount Network Television', 25582: 'High Delft Pictures', 5841: 'Castleberg Productions', 5842: 'Sandollar Productions', 8263: 'EMI Films', 9221: 'Toei Video Company', 11341: 'Stage 6 Films', 249: 'Société Nouvelle de Cinématographie', 1818: 'Tritone Cinematografica', 30688: 'New Normal Films', 75358: 'Jay Silverman Productions', 1819: 'Cinema 77', 2807: 'India Take One Productions', 1268: 'Focus Films', 5686: 'Sil-Metropole Organisation', 10284: 'Edko Films', 616: 'Eskwad', 741: 'Emotion Pictures', 19866: 'Zeal Pictures', 83: 'France 2 Cinéma', 84516: 'Les Films A4', 7776: 'Pioneer L.D.C', 2379: 'Palladium Productions', 90403: 'Turner Entertainment Co.', 2493: 'Tandem Communications', 4792: 'Film Afrika Worldwide', 42272: 'RTL', 417: 'Australian Film Commission', 89161: 'Gary Kurfirst Pictures', 89162: 'True Stories Venture', 4412: 'Portreeve', 20657: 'U.K. Productions Entity', 17383: 'Monica Beach Media', 1: 'Lucasfilm', 71748: 'Jerry Bick', 71749: 'George Litto Productions', 4037: 'Magic Head Film Production', 255: 'Paradis Films', 82128: 'Filmkraft Productions Pvt. Ltd', 22136: 'Murder Inc.', 6667: 'Mandalay Vision', 12190: 'Buster Keaton Productions', 9342: 'Central Partnership', 4379: 'Film Brigade', 28320: 'Rocket Pictures', 3298: 'Harpo Films', 21864: 'Cine Mosaic', 9383: 'Blue Sky Studios', 979: 'Woods Entertainment', 4928: 'Allied Artists Pictures', 10253: 'Samuel Bronston Productions', 6687: 'Viz Media', 7606: 'Universal Pictures (UK)', 860: 'Celluloid Dreams', 5030: 'Offside', 14648: 'Bachrach/Gottlieb Productions', 4146: 'Richard Quine Productions', 4147: 'George Axelrod Productions', 77519: 'Lao Art Media', 78476: 'REDLABdigital', 11420: 'Showbox Entertainment', 10312: 'Wescom Productions', 60281: 'Byzantine Productions', 25684: 'ED Productions Sprl', 10443: 'Synchronicity Films', 41115: 'British Film Company', 23210: 'Center for Film and Audiovisual Arts of the French Community of Belgium', 6438: 'Muse Entertainment Enterprises', 6060: 'AS Productions', 27139: 'Société Générale de Gestion Cinématographique (SGGC)', 2102: 'Frankovich Productions', 3964: 'FUNimation Entertainment', 12460: 'EA International', 12461: 'Bioware', 3760: 'King Brothers Productions', 2429: 'Conspiração Filmes', 53: 'Les Films du Carrosse', 64: 'Les Productions Artistes Associés', 1216: 'Dino de Laurentiis Cinematografica', 1130: 'The Rank Organisation Film Productions', 6196: 'Carnival Films', 6197: 'London Weekend Television (LWT)', 955: 'Nikkatsu', 24728: 'North CKY', 26087: 'Tiger Tail Entertainment', 26088: 'Deon Taylor Enterprises', 2740: 'Jigsaw Productions', 2742: 'Disarming Films', 3401: 'Fox West Pictures', 79025: 'Zacharias-Buhai Productions', 39242: 'Gentle Machine Productions LLC', 2865: 'Insight Film Studios', 3546: 'Hollywood Media Bridge', 53259: 'Operation Eagle Productions', 53260: 'Dandelion Entertainment Ventures', 53261: 'Media Financial Incorporated', 3324: 'British Broadcasting Corporation (BBC)', 816: 'FilmEngine', 4867: 'Full Moon Entertainment', 3025: 'Brandman Productions', 12014: 'TWS Productions II', 3219: 'Amuse Soft Entertainment', 18702: 'Player Entertainment Group', 45864: 'Matchbox Pictures Inc.', 4431: 'Dehlavi Films', 41727: 'The Quaid Project', 41728: 'Petra Film', 18705: 'Highroad Productions', 17209: 'Vice Films', 2798: 'Columbia Pictures Film Production Asia', 38550: 'Guangxi Film Studio', 5199: 'H5', 12434: 'Autour de Minuit Productions', 12435: 'Little Minx Films', 15058: 'Casablanca Filmworks', 8001: 'Film Rock', 8002: 'Hill & Brand Entertainment', 403: 'Bioskop-Film GmbH', 51972: 'Deutsche Bioscop GmbH', 36248: 'Levy-Gardner-Laven', 103: 'TVE', 10031: 'Morena Films', 18786: 'Ad Hoc Productions', 26590: 'Backup Media', 6275: 'BiBi Film', 50076: 'Side Street Post', 74954: 'Sorrento Productions', 82475: 'Meridian Content', 86407: 'Canosa Productions', 9209: 'MK2 Productions', 5099: 'Altamira Pictures Inc.', 883: 'Les Productions du Champ Poirier', 2093: 'Sofimage', 26194: 'FR3 Films Production', 63893: 'Téléma', 38567: 'BMG Independents', 38661: 'Balatbat Productions', 753: 'Nouvelles Éditions de Films (NEF)', 35872: 'Steve White Productions', 84937: 'VPS Studios', 59811: 'Netflix', 24156: 'American Film Productions', 13240: 'Bron Studios', 1435: 'Left Turn Films', 27523: 'Pure Mutt Productions', 7315: 'A&E IndieFilms', 10978: 'Motto Pictures', 72627: 'Roger Ross Williams Productions', 5533: 'Jerry Lewis Productions', 81254: 'Rashmi Sharma Telefilms Limited', 24133: 'Night and Day Pictures', 36433: 'MJW Films', 11061: 'Motion Picture Corporation of America (MPCA)', 12799: 'Silver Screen Pictures', 52429: 'Lasky Productions', 7046: 'Paris Film', 1490: 'Kintop Pictures', 6583: 'Reliance Big Pictures', 63607: 'StarLight Films', 21290: 'Fawcett-Majors Productions', 62620: 'Steel Productions', 2101: 'C.B. Films S.A.', 22820: 'Rossen Films', 24: 'Mikona Productions GmbH & Co. KG', 26281: 'Ardustry Entertainment', 11331: 'Cinétévé', 11332: 'La Sept-Arte', 37654: 'Igeldo Komunikazioa S.L.', 50080: 'Mister Lister Films', 72725: 'QC Entertainment', 56010: 'Boy in the Box', 56011: '2 Bridges Productions', 56012: 'A2 Entertainment Group', 328: 'TLA Releasing', 5203: 'Day Dreamer Films', 7411: 'Imax Filmed Entertainment', 34667: 'Howard Hall Productions', 1486: 'Arnold Pressburger Films', 4878: 'Virgin Vision', 23915: 'R.V.P. Productions', 23916: 'A Don Boyd Production', 1566: 'Spanky Pictures', 3901: 'Phoenician Films', 6996: 'Apostle', 40759: 'Filmline International', 1596: 'Shooting Gallery', 91526: 'Fida Attieh Productions', 1569: 'Yash Raj Films', 11317: 'Phoenix Pictures', 11466: 'Akil Production Company', 74910: 'Spotlight Pictures', 4579: 'Tigon British Film Productions', 21719: 'Chilton Films', 5040: 'Morningside Productions', 26260: 'Ministero per i Beni e le Attività Culturali', 27558: 'Augustus Color', 27559: 'Bianca Film', 3525: 'Skreba Films', 68209: 'Erber & Koch', 86906: 'NEO Motion Pictures', 192: 'Shochiku Co., Ltd.', 10268: 'Telecable Benelux B.V.', 10645: 'Paradise Films', 10647: 'Unité Trois', 42044: 'Ministère de la Culture Française de Belgique', 2714: 'Asgaard Entertainment', 23885: 'YMIR Productions', 2009: 'Maipo Film- og TV Produksjon', 56492: 'Stewart and Wall Entertainment', 19150: 'Telewizja Polska (TVP)', 54245: 'Silesia Film', 51748: 'FilmBros', 14701: 'Mayflower Pictures Corporation', 4188: 'Indecom Cinema', 5123: 'Miso Film', 7940: 'Cinemiso', 12782: 'Rapid Film', 29605: 'CNN Films', 40797: 'Prettybird', 92478: 'Bergen Mabile Productions', 5238: 'Central Independent Television', 7294: 'Reliance Entertainment', 10869: 'Filmverlag der Autoren', 11626: 'Tango Film', 5632: 'Milky Way Image Company', 17811: 'Mad Dimension', 32652: 'Single Spark Pictures', 72811: 'Music Box Films', 641: 'Titanus', 22498: 'Black Sand Pictures', 22499: 'Soho Screen Productions', 22500: 'Highland Film Group', 2580: 'Coquette Productions', 2581: 'Raw Entertainment', 3653: 'Eros International', 1957: 'Warner Bros. Television', 23377: 'Tundra Film', 9211: 'Albert Band International Productions Inc.', 23510: 'Hollywood Films', 5388: 'Sony Pictures Home Entertainment', 15125: 'Capital Equipment Leasing', 11694: 'Ministère de la Culture de la Republique Française', 75642: 'Les Films Aleph', 75643: 'Historia', 5571: 'UTV Spotboy Motion Pictures', 17387: 'Jeonwonsa Film', 14345: 'Cinemabrain', 14346: 'Japan Video Distribution (JVD) Co. Ltd.', 14347: 'Melsat Inc.', 14348: 'Ryu Murakami Office', 13705: 'Continental Films', 201: 'Arte', 224: 'Wega Film', 7333: 'Bayerischer Rundfunk (BR)', 2270: 'China Film Group Corporation', 61239: 'Chuan Films', 2320: 'UTV Motion Pictures', 318: 'CTB Film Company', 25924: 'Pygmalion Production', 2674: 'Telecinco Cinema', 5691: 'Madrugada Films', 20338: 'Bidibul Productions', 20339: 'Chapter 2', 6623: 'Caramel Films', 6679: 'Marvista Entertainment', 542: 'Guardian Trust Company', 24449: 'RSL Entertainment Corp.', 45300: 'Moviecorp VI', 28447: 'B & C Filmproduktion', 28448: 'Cascadeur Filmproduktion GmbH', 6062: 'Státní fond ČR pro podporu a rozvoj české kinematografie', 29285: 'FRAME100R', 32930: 'FAMU', 71114: 'Odra Film', 73008: 'Mediabrigade', 3052: 'Troma Entertainment', 738: 'Myriad Pictures', 1205: 'Endgame Entertainment', 7232: 'Accent Entertainment Corporation', 74406: 'Five & Two Pictures', 4627: 'Sony Picture Imageworks', 69903: 'Colour Yellow Pictures', 13877: 'Ortus Films', 25819: 'Five Star Entertainment', 3070: 'Cinema Center Films', 16340: 'Lee Mendelson Film Productions', 16341: 'Bill Melendez Productions', 52263: 'United Feature Syndicate (UFS)', 3189: 'Blue Pen Ltd.', 6896: 'EuropaCorp', 1009: 'Crown International Pictures', 1010: 'Marimark Productions', 5070: 'Shôchiku Eiga', 39923: 'FilmTel Ltd.', 80020: 'Kim Ki-Young Production', 80021: 'Hanguk Munye Yeonghwa', 13892: 'RKO Pathé Pictures', 874: 'Cinéa', 56931: 'The Legend Lives Company', 19814: 'Zucker Productions', 60954: 'Triple D Productions', 13622: 'Producers-Actors Corporation', 13690: 'Scott-Brown Productions', 73343: 'Kovno Communications', 7270: 'Opus Pictures', 5225: 'Johnson Production Group', 78747: 'Shadowland', 140: 'Pandora Film', 2572: 'Cobra Film', 5234: 'Sender Films', 777: 'Future Film Group', 12010: 'Mediapro', 14665: 'Sequoia Productions', 16736: 'Sequoin Films', 77713: 'Dog Day Films', 6339: 'Solar Films inc.', 10051: 'GMT Productions', 23384: 'Check Entertainment', 1666: 'Rhône-Alpes Cinéma', 1667: 'K.J.B. Production', 2480: 'Alliance Communications Corporation', 5368: 'Samson Productions', 36189: 'First Choice Canadian Communication Corporation', 55798: 'Goldwyn Pictures Corporation (II)', 55799: 'Rogers Telefund', 5120: 'Mosfilm', 659: 'London Film Productions', 54016: 'Rotholz Pictures', 4866: 'Global Productions', 6587: 'Astron-6 Video International', 18906: 'Tele-Film', 56696: 'Parkside Pictures', 56697: 'Tadross Media Group', 82790: 'Fixer Film Productions', 82791: 'Benatter/Thomas productions', 3165: 'Funny Business Productions', 5360: 'CR Enterprises', 10342: 'Studio Ghibli', 4391: 'Peter McCarthy / Front Films', 4392: 'Pacific Arts Video', 10320: 'Carolco Entertainment', 17954: 'Panaria', 33674: 'Avenue Picture', 15509: 'Art Port', 2210: 'K2 SA', 7961: 'Gaumont International', 8676: 'uFilm', 50089: 'Create Entertainment', 50090: 'Evince Productions', 13549: 'Golan-Globus Productions', 5677: 'Flavor Unit Entertainment', 82573: 'Killa Films', 5294: 'Mpower Pictures', 7075: 'Metanoia Films', 13818: 'Burnside Entertainment', 48752: 'Bella Productions', 77798: 'One Media, The', 7069: 'Daly-Harris Productions', 7070: 'Davis Entertainment Classics', 7071: 'Sordid Lives LLC', 3039: 'Reunion Pictures', 5241: 'Film Fund FUZZ', 8272: 'Cinenord Spillefilm', 13450: 'ANTORCHA FILMS', 34171: 'Rain Dogs Cine', 73170: 'Palermo Estudio', 55524: 'Latent Image', 718: 'Arts Council of England', 1270: 'National Lottery', 4413: 'Gruber Bros.', 24356: 'Tomboy Films', 36978: 'Winchester Multimedia PLC', 15364: 'Anil Kapoor Film Company', 17119: 'Comunicación Fractal', 17120: 'Santa Lucía Cine', 17121: 'Tita Productions', 10157: 'Beacon Pictures', 57939: 'Plutonium Production Limited', 5798: 'Shaw Brothers', 36146: 'Meir Teper', 10523: 'Mondial Televisione Film', 76844: 'Adel Films', 8541: 'Katholieke Radio Omroep (KRO)', 21404: 'ZDF', 23406: 'Heimatfilm', 28914: 'Studio-TV-Film', 38355: 'Eyeworks Egmond', 73577: 'Armada Productions', 73578: 'Menaures BV', 5887: 'ufotable', 53787: 'TYPE-MOON', 3679: 'Rose & Ruby Productions', 35839: 'Moviestore Entertainment', 14771: 'Robertson and Associates', 27025: 'Arrete Ton Cinema', 16748: 'HarBel Productions', 18283: 'C.G. Silver Film', 46453: 'Vanishing Angle', 16404: 'Abra Films', 7025: 'Westdeutscher Rundfunk (WDR)', 48538: 'Blinker Filmproduktion GmbH', 75673: 'Atacama Productions', 88979: 'Cronomedia', 4692: 'Instinct Entertainment', 8861: 'Instituto Mexicano de Cinematografía (IMCINE)', 16461: 'JADE FILMS', 16462: 'Grupo AZTECA', 7782: 'Picture Palace', 7783: 'Celtic Films Entertainment', 17195: 'Carlton UK Productions', 33365: 'Mattel Playground Productions', 8050: 'Tessalit Production', 15276: 'Channel 4 Television Corporation', 18259: 'Central Productions', 77482: 'Mostpoint', 2292: 'Original Media', 1545: 'Roxbury Productions', 8363: 'Euston Films', 19316: 'Freeway Films', 30226: 'European Co-production Fund', 31080: 'Polygram Filmed Entertainment', 44821: 'Orsans Productions', 81175: 'Illuminati Films', 86699: 'Maddock Films', 1428: 'Balcázar Producciones Cinematográficas', 9219: 'Produzioni Cinematografiche Mediterranee (PCM)', 9261: 'Mercury Films', 38793: 'Pan Latina Films', 42120: 'Cine Lu.Ce.', 48026: 'Whitley Partners', 2166: 'ABC Circle Films', 9228: 'Dan Curtis Productions', 28230: 'DeMille Pictures Corporation', 13819: 'Lower East Side Films', 17813: '49th Parallel Productions', 65561: 'Forensic/291 Films', 3809: 'Gibraltar Productions', 30200: 'The Corman Company', 4641: 'Shochiku Company', 15406: 'Qartuli Pilmi', 17980: 'HBO Documentary Films', 223: 'Les Films du Losange', 2017: 'Film Roman Productions', 19724: 'Fuzzy Logic Pictures', 7694: 'Delante Films', 5828: 'Strada Film', 12389: 'Les Films Pelléas', 22629: 'Sundance / NHK International Filmmakers Award', 37264: 'Sundance Institute, The', 42202: 'Cofimage 17', 69459: 'Uni Etoile 3', 69460: 'Acht Frankfurt', 69461: 'Briarcliff Films', 69462: 'Centrul National al Cinematografiei (CNC)', 69463: 'NEP', 69464: 'SEE Cinema Network', 69465: 'Sofica Soficinéma 2', 51081: 'Cascade Films', 1742: 'Les Films 13', 1178: 'Pathé Pictures International', 2746: 'Mission Pictures', 5521: 'CP Medien AG', 25: '20th Century Fox', 6458: 'Instituto Nacional de Cine y Artes Audiovisuales (INCAA)', 21914: 'Kramer & Sigman Films', 73568: 'K&S Films', 94757: 'OK Films', 94765: 'Chemo', 94766: 'Shok Films Argentina', 16772: 'Little Bear', 10989: 'Muskat Filmed Properties', 55060: 'Troop 41 Productions', 22701: 'Directions Inc.', 6853: 'Kaijyu Theater', 1353: 'Hanna-Barbera Productions', 36207: 'KISS Productions', 254: 'Pandora Filmproduktion', 6584: 'Gemini Films', 10357: 'Madragoa Films', 13349: 'Zoetrope Studios', 8390: 'Wilco Co.', 13229: 'Breath', 697: 'Alta Films S.A.', 983: 'Parallax Pictures', 4350: 'Atlantis Films', 21978: 'Gorky Film Studios', 54684: '101st Street Films', 8857: 'Independent Film Channel (IFC)', 34664: 'Maja Films', 34665: 'Fresh Produce Films', 13947: 'Benmar Productions', 10399: 'Cinetel Films', 21043: 'Media Entertainment GmbH', 96053: 'Ibérica Filmes', 3092: 'Les Films Manuel Munz', 8250: 'Bona International Film Group', 3513: 'Big Screen Entertainment', 5129: 'Shemaroo', 5298: 'Sri Surya Films', 9340: 'Enjoy Movies', 87370: 'DMS Films Private Limited', 383: 'Goskino Productions', 38573: 'Barbara Moorse Workshop', 87594: 'Triana Films', 53105: 'Paris Filmes', 75998: 'Porta dos Fundos', 75999: 'Telecine Productions', 12372: 'Universum Film (UFA)', 80588: 'Fritz Lang-Film', 15933: 'Союзмультфильм', 17179: 'BBC Arena', 23243: 'Sikelia Productions', 29646: 'Magna Global Entertainment', 16875: 'Secret Weapon Films', 1129: 'Cinetel', 1406: 'Mega Film', 2013: 'Divina-Film', 3033: 'Asmik Ace Entertainment', 2650: 'Ealing Studios', 14377: 'J. Arthur Rank Organisation', 9181: 'Art Theatre Guild', 9182: 'Sozosha', 14155: 'AMBL Productions', 48320: 'M-Line Distribution', 19237: 'Von Zerneck Sertner Films', 10602: 'Pacific Productions', 6303: 'Rakontur', 36616: 'Amusement Park Films', 78496: 'Tigerlily Films', 10377: 'Feifer Worldwide', 3685: 'Toei Doga', 357: 'Vía Digital', 1025: 'Lolafilms S.A.', 2130: 'Mr. Mudd Production', 3750: 'Balaji Motion Pictures', 8444: 'Phantom Productions', 23301: 'Catchlight Films', 51691: 'Serious Dan', 51692: 'Without a Box', 4527: 'Concorde Pictures', 881: 'Daiei Studios', 18701: 'Wessex Film Productions', 22123: 'TF1', 73162: 'Greendale Productions', 58215: 'Arora', 198: 'GFP Medienfonds', 30795: 'Star Ritz Productions Co Ltd', 31016: 'Amazing Film Studio', 29248: 'Ópalo Films', 16906: 'Arizona Films', 20490: 'New People Film Company', 79197: 'MovieBrats Pictures', 47460: 'Mini Studios', 843: 'Werner Herzog Filmproduktion', 4992: 'EGM Film International', 10316: 'British Columbia Film', 21258: 'North American Pictures', 37299: 'Excalibur Pictures', 40006: 'North American Releasing', 1221: 'Gainsborough Pictures', 14063: 'Granada Television', 93133: 'Cinco da Norte', 6639: 'Televisión Española (TVE)', 12625: 'Canal+ Espana', 243: 'CB Films', 16366: 'La Sept Cinéma', 21740: 'Dacia Films', 7340: 'C-2 Pictures', 73898: 'Cinergi', 73899: 'Flashback Productions', 12630: 'Studio Green', 14294: 'Thirukumaran Entertainment', 71621: 'Republic of EPIC', 71622: 'Number 5 Films', 8131: 'Timothy Burrill Productions', 250: 'Canal+Polska', 1870: 'Alhena Films', 33882: 'Compagnie des Films', 73652: 'Film+ Pologne', 73653: 'Visa Films', 87986: 'rusty bear entertainment', 87987: 'lucky crow films', 18071: 'FilmDallas Pictures', 18090: 'Bountiful Film Partners', 4006: 'Two Cities Films', 11333: 'Geria Productions', 35140: 'Aldrich Company', 8914: 'RealProduct', 945: 'Cheongeoram', 7986: 'M&B FILM3 BV', 44989: 'Phantom Film', 5776: 'Capital Productions', 5777: 'Thrill Films', 17647: 'Felicia Film', 66483: 'Foreverland Productions', 614: 'Vanguard Films', 1066: 'Distant Horizons', 6154: 'Allfilm', 74637: 'Baltic Pine Films', 1442: 'Cosmopolitan Productions', 8442: 'Abilene', 790: 'Samsa Film', 75297: 'sms productions', 10845: 'Lenfilm', 300: 'Alameda Films', 12487: 'Alebrije Cine y Video', 58878: 'Zamora Films', 80028: 'Velarium Arts', 3573: 'Celador Films', 3164: 'BBC Worldwide', 6733: 'Reliance BIG Entertainment', 8090: 'BBC Earth', 8091: 'Evergreen Films', 37455: 'Legend3D', 27188: 'Full Stealth Films', 27189: 'Forgetting the Girl', 15871: 'London Independent Producers', 70444: 'Dreams N Beyond', 4330: 'Horipro', 6755: 'Nippon Television Network Corporation (NTV)', 6999: 'Kodansha', 39509: 'Free Range Films', 20916: 'Kinorama', 49180: 'SEE Film', 54089: 'Gustav Film', 14625: 'Office Crescendo', 5682: 'O Entertainment', 1627: 'Maran Film', 16814: 'Süddeutscher Rundfunk (SDR)', 29165: 'Rialto Film', 33352: 'Trio Film', 67081: 'Laura Film', 3909: 'Fogbound Inc.', 1644: 'Largo Entertainment', 31700: 'Toluca Productions', 14047: 'Roger Corman Productions', 1003: 'Filmkameratene A/S', 47547: 'A Film Monkey Production', 10826: 'Akson Studio', 1660: 'Fígaro Films', 31132: 'Acuarius Films S.A.', 39126: 'Producciones Fenix', 1841: 'Percept Picture Company', 3522: 'T-Series', 14950: 'B.P. Schulberg Productions', 87214: 'Longview Pictures', 5186: 'The Australian Film Commission', 14590: 'New South Wales Film Corp.', 36390: '3 Arts Entertainment', 41474: 'Rodeo', 59195: 'Beautiful Lie Pictures', 20479: 'Manson International', 60037: 'Verdict Productions Inc.', 5031: 'Videovision Entertainment', 7819: 'Lotte Entertainment', 36911: 'Spark Films', 79569: 'Wild Style', 405: 'Giorgos Papalios Productions', 12088: 'Moffitt-Lee Productions', 9323: 'Beachfront Films', 52084: 'Red Square Pictures', 45732: 'Savage Production Ltd.', 31107: 'K&Entertainment', 9116: 'Société de Développement des Entreprises Culturelles (SODEC)', 11578: 'Super Écran', 92629: 'Forum Films [ca]', 1273: 'Ceneca Producciones', 1394: 'Black Forest Films', 7196: 'Lube', 7198: 'A-Film Home Entertainment', 20931: 'Alpha Productions', 19785: 'Khoury A Marriot Production', 859: 'Saga Film', 6149: 'Monarex', 28386: 'Grazing Goat Pictures Pvt Ltd', 7535: 'Lux Digital Pictures', 74791: 'The Horrorworks', 4774: 'Sci Fi Pictures', 7789: 'Voyage Productions (III)', 2310: 'Screen West Midlands', 10393: 'Vertigo Films', 64890: 'Slingshot Productions', 83663: 'MySpace', 6956: 'Lucky UKFS', 7817: 'Defender Production', 7818: 'Frame Werk Produktion GmbH & Co. KG', 34999: 'Bauer Martinez Studios', 35002: 'Lucky 7 Productions LLC'}\n"
     ]
    }
   ],
   "source": [
    "print(company_dict)"
   ]
  },
  {
   "cell_type": "markdown",
   "id": "db1389b0",
   "metadata": {},
   "source": [
    "### Create language dictionary"
   ]
  },
  {
   "cell_type": "code",
   "execution_count": 523,
   "id": "694dccf7",
   "metadata": {},
   "outputs": [],
   "source": [
    "def lang(s):\n",
    "    cty = pycountry.languages.get(alpha_2 = s)\n",
    "    language = cty.name\n",
    "    return language"
   ]
  },
  {
   "cell_type": "code",
   "execution_count": 524,
   "id": "94dce289",
   "metadata": {
    "scrolled": false
   },
   "outputs": [],
   "source": [
    "language = df.spoken_languages\n",
    "language_dict = {}\n",
    "new_language = []\n",
    "idx = 0\n",
    "for i in language:\n",
    "    i = i.replace(\"'\",'\"')\n",
    "    try:\n",
    "        tmp = json.loads(i)\n",
    "    except:\n",
    "        tmp = json.loads('[]')\n",
    "    \n",
    "    res = []\n",
    "    try:\n",
    "        for j in tmp:\n",
    "            abbr = j[\"iso_639_1\"]\n",
    "            if abbr not in language_dict:\n",
    "                language_dict[abbr] = lang(abbr)\n",
    "            res.append(language_dict[abbr])\n",
    "        new_language.append(res)\n",
    "    except:\n",
    "        new_language.append([])\n",
    "# Reference: \n",
    "# https://github.com/flyingcircusio/pycountry"
   ]
  },
  {
   "cell_type": "code",
   "execution_count": 525,
   "id": "24d09d27",
   "metadata": {},
   "outputs": [
    {
     "name": "stdout",
     "output_type": "stream",
     "text": [
      "{'en': 'English', 'es': 'Spanish', 'fr': 'French', 'zh': 'Chinese', 'de': 'German', 'no': 'Norwegian', 'sv': 'Swedish', 'it': 'Italian', 'ru': 'Russian', 'la': 'Latin', 'gd': 'Scottish Gaelic', 'ar': 'Arabic', 'ga': 'Irish', 'ja': 'Japanese', 'pt': 'Portuguese', 'el': 'Modern Greek (1453-)', 'ko': 'Korean', 'da': 'Danish', 'tr': 'Turkish', 'hu': 'Hungarian', 'km': 'Central Khmer', 'mi': 'Maori', 'cs': 'Czech', 'bo': 'Tibetan', 'th': 'Thai', 'hi': 'Hindi', 'cy': 'Welsh', 'pl': 'Polish', 'nl': 'Dutch', 'sr': 'Serbian', 'nv': 'Navajo', 'uk': 'Ukrainian', 'is': 'Icelandic', 'tl': 'Tagalog', 'fi': 'Finnish', 'hy': 'Armenian', 'mn': 'Mongolian', 'vi': 'Vietnamese', 'bs': 'Bosnian', 'af': 'Afrikaans', 'mr': 'Marathi', 'iu': 'Inuktitut', 'lo': 'Lao', 'yi': 'Yiddish', 'gu': 'Gujarati', 'he': 'Hebrew', 'kk': 'Kazakh', 'ca': 'Catalan', 'cr': 'Cree', 'ml': 'Malayalam', 'ka': 'Georgian', 'ro': 'Romanian', 'qu': 'Quechua', 'bn': 'Bengali', 'tg': 'Tajik', 'ta': 'Tamil', 'zu': 'Zulu', 'et': 'Estonian', 'hr': 'Croatian', 'sh': 'Serbo-Croatian', 'pa': 'Panjabi'}\n"
     ]
    }
   ],
   "source": [
    "print(language_dict)"
   ]
  },
  {
   "cell_type": "markdown",
   "id": "15869f1a",
   "metadata": {},
   "source": [
    "### vote_scores computed: IMDb rating system work"
   ]
  },
  {
   "cell_type": "markdown",
   "id": "d0190aae",
   "metadata": {},
   "source": [
    "#### Weighted Rating (wr) = [v/(v+min)] * R + [min/(v+min)] * C\n",
    "v: the number of votes for the movie\n",
    "\n",
    "min: the minimum votes required as threshold\n",
    "\n",
    "R: the average rating of the movie\n",
    "\n",
    "C: the mean vote for the dataset"
   ]
  },
  {
   "cell_type": "code",
   "execution_count": 526,
   "id": "189a7cdc",
   "metadata": {},
   "outputs": [],
   "source": [
    "# compute the mean vote: C\n",
    "v_avg = df[\"vote_average\"].mean()\n",
    "v_cnt = df[\"vote_count\"].quantile(0.6)\n",
    "v_df = df.loc[df[\"vote_count\"]>= v_cnt]\n",
    "\n",
    "# We will use 60th percentile as our cutoff. \n",
    "# Each movie selected must have more votes surpass 60% in teh dataset.\n",
    "# Bases on the size of dataset, more data, higher percentile.\n",
    "\n",
    "# Reference:\n",
    "# https://www.quora.com/How-does-IMDbs-rating-system-work"
   ]
  },
  {
   "cell_type": "code",
   "execution_count": 527,
   "id": "3411a9da",
   "metadata": {},
   "outputs": [
    {
     "name": "stderr",
     "output_type": "stream",
     "text": [
      "/var/folders/t4/ws_p7m097s7_p1t_gg1m0h080000gn/T/ipykernel_99747/3495840658.py:12: SettingWithCopyWarning: \n",
      "A value is trying to be set on a copy of a slice from a DataFrame.\n",
      "Try using .loc[row_indexer,col_indexer] = value instead\n",
      "\n",
      "See the caveats in the documentation: https://pandas.pydata.org/pandas-docs/stable/user_guide/indexing.html#returning-a-view-versus-a-copy\n",
      "  v_df[\"score\"] = score_lst\n"
     ]
    }
   ],
   "source": [
    "def weighted(movie,v_cnt,v_avg):\n",
    "    v = movie[\"vote_count\"]\n",
    "    R = movie[\"vote_average\"]\n",
    "    return (v/(v+v_cnt) * R) + (v_cnt/(v_cnt+v) * v_avg)\n",
    "\n",
    "score_lst = []\n",
    "for i,j in v_df.iterrows():\n",
    "    movie = j\n",
    "    score = weighted(movie,v_cnt,v_avg)\n",
    "    score = round(score,3)\n",
    "    score_lst.append(score)\n",
    "v_df[\"score\"] = score_lst\n",
    "\n",
    "# Reference:\n",
    "# https://www.geeksforgeeks.org/adding-new-column-to-existing-dataframe-in-pandas/"
   ]
  },
  {
   "cell_type": "code",
   "execution_count": 528,
   "id": "3a300a5a",
   "metadata": {},
   "outputs": [
    {
     "data": {
      "text/html": [
       "<div>\n",
       "<style scoped>\n",
       "    .dataframe tbody tr th:only-of-type {\n",
       "        vertical-align: middle;\n",
       "    }\n",
       "\n",
       "    .dataframe tbody tr th {\n",
       "        vertical-align: top;\n",
       "    }\n",
       "\n",
       "    .dataframe thead th {\n",
       "        text-align: right;\n",
       "    }\n",
       "</style>\n",
       "<table border=\"1\" class=\"dataframe\">\n",
       "  <thead>\n",
       "    <tr style=\"text-align: right;\">\n",
       "      <th></th>\n",
       "      <th>title</th>\n",
       "      <th>vote_count</th>\n",
       "      <th>vote_average</th>\n",
       "      <th>score</th>\n",
       "      <th>popularity</th>\n",
       "    </tr>\n",
       "  </thead>\n",
       "  <tbody>\n",
       "    <tr>\n",
       "      <th>12475</th>\n",
       "      <td>The Dark Knight</td>\n",
       "      <td>12269.0</td>\n",
       "      <td>8.3</td>\n",
       "      <td>8.292</td>\n",
       "      <td>123.167259</td>\n",
       "    </tr>\n",
       "    <tr>\n",
       "      <th>292</th>\n",
       "      <td>Pulp Fiction</td>\n",
       "      <td>8670.0</td>\n",
       "      <td>8.3</td>\n",
       "      <td>8.289</td>\n",
       "      <td>140.950236</td>\n",
       "    </tr>\n",
       "    <tr>\n",
       "      <th>1130</th>\n",
       "      <td>Cinema Paradiso</td>\n",
       "      <td>834.0</td>\n",
       "      <td>8.2</td>\n",
       "      <td>8.097</td>\n",
       "      <td>14.177005</td>\n",
       "    </tr>\n",
       "    <tr>\n",
       "      <th>32096</th>\n",
       "      <td>Room</td>\n",
       "      <td>2838.0</td>\n",
       "      <td>8.1</td>\n",
       "      <td>8.070</td>\n",
       "      <td>12.443291</td>\n",
       "    </tr>\n",
       "    <tr>\n",
       "      <th>39315</th>\n",
       "      <td>Piper</td>\n",
       "      <td>487.0</td>\n",
       "      <td>8.2</td>\n",
       "      <td>8.030</td>\n",
       "      <td>11.243161</td>\n",
       "    </tr>\n",
       "  </tbody>\n",
       "</table>\n",
       "</div>"
      ],
      "text/plain": [
       "                 title  vote_count  vote_average  score  popularity\n",
       "12475  The Dark Knight     12269.0           8.3  8.292  123.167259\n",
       "292       Pulp Fiction      8670.0           8.3  8.289  140.950236\n",
       "1130   Cinema Paradiso       834.0           8.2  8.097   14.177005\n",
       "32096             Room      2838.0           8.1  8.070   12.443291\n",
       "39315            Piper       487.0           8.2  8.030   11.243161"
      ]
     },
     "execution_count": 528,
     "metadata": {},
     "output_type": "execute_result"
    }
   ],
   "source": [
    "sort_v_df = v_df.sort_values(\"score\", ascending = False)\n",
    "sort_v_df[[\"title\", \"vote_count\", \"vote_average\", \"score\",\"popularity\"]].head(5)"
   ]
  },
  {
   "cell_type": "code",
   "execution_count": 529,
   "id": "049e43c4",
   "metadata": {},
   "outputs": [],
   "source": [
    "#print(len(sort_v_df))"
   ]
  },
  {
   "cell_type": "markdown",
   "id": "66322b66",
   "metadata": {},
   "source": [
    "### Rating Based Recommend System"
   ]
  },
  {
   "cell_type": "code",
   "execution_count": 531,
   "id": "009b9191",
   "metadata": {},
   "outputs": [
    {
     "data": {
      "text/plain": [
       "Text(0.5, 1.0, 'High Rated Movies')"
      ]
     },
     "execution_count": 531,
     "metadata": {},
     "output_type": "execute_result"
    },
    {
     "data": {
      "image/png": "[encoded data removed]",
      "text/plain": [
       "<Figure size 864x432 with 1 Axes>"
      ]
     },
     "metadata": {
      "needs_background": "light"
     },
     "output_type": "display_data"
    }
   ],
   "source": [
    "plt.figure(figsize = (12,6))\n",
    "plt.barh(sort_v_df[\"title\"].head(10),sort_v_df[\"score\"].head(10), align = \"center\", color = \"c\")\n",
    "plt.gca().invert_yaxis()\n",
    "plt.xlabel(\"Score\")\n",
    "plt.title(\"High Rated Movies\")"
   ]
  },
  {
   "cell_type": "markdown",
   "id": "f680fa10",
   "metadata": {},
   "source": [
    "### Popularity Based Recommend System"
   ]
  },
  {
   "cell_type": "code",
   "execution_count": 532,
   "id": "5de48cf8",
   "metadata": {},
   "outputs": [
    {
     "data": {
      "text/plain": [
       "Text(0.5, 1.0, 'Most Popular Movies')"
      ]
     },
     "execution_count": 532,
     "metadata": {},
     "output_type": "execute_result"
    },
    {
     "data": {
      "image/png": "[encoded data removed]",
      "text/plain": [
       "<Figure size 864x432 with 1 Axes>"
      ]
     },
     "metadata": {
      "needs_background": "light"
     },
     "output_type": "display_data"
    }
   ],
   "source": [
    "plt.figure(figsize = (12,6))\n",
    "plt.barh(v_df[\"title\"].head(10),v_df[\"popularity\"].head(10), align = \"center\", color = \"sandybrown\")\n",
    "plt.gca().invert_yaxis()\n",
    "plt.xlabel(\"Popularity\")\n",
    "plt.title(\"Most Popular Movies\")"
   ]
  },
  {
   "cell_type": "code",
   "execution_count": null,
   "id": "41dd2d9a",
   "metadata": {},
   "outputs": [],
   "source": []
  },
  {
   "cell_type": "markdown",
   "id": "9052e483",
   "metadata": {},
   "source": [
    "### Cinemagoer: add one more parameter for score recommend system"
   ]
  },
  {
   "cell_type": "code",
   "execution_count": 535,
   "id": "40511e23",
   "metadata": {},
   "outputs": [],
   "source": [
    "ia = Cinemagoer()\n"
   ]
  },
  {
   "cell_type": "code",
   "execution_count": 534,
   "id": "74b8dcaf",
   "metadata": {},
   "outputs": [
    {
     "name": "stderr",
     "output_type": "stream",
     "text": [
      "2022-11-27 01:56:48,015 CRITICAL [imdbpy] /Users/xiangyuanchi/.local/lib/python3.9/site-packages/imdb/_exceptions.py:32: IMDbDataAccessError exception raised; args: ({'errcode': 54, 'errmsg': 'Connection reset by peer', 'url': 'https://www.imdb.com/title/tt0418279/reference', 'proxy': '', 'exception type': 'IOError', 'original exception': ConnectionResetError(54, 'Connection reset by peer')},); kwds: {}\n",
      "Traceback (most recent call last):\n",
      "  File \"/Users/xiangyuanchi/.local/lib/python3.9/site-packages/imdb/parser/http/__init__.py\", line 222, in retrieve_unicode\n",
      "    content = response.read()\n",
      "  File \"/Users/xiangyuanchi/opt/anaconda3/lib/python3.9/http/client.py\", line 470, in read\n",
      "    return self._readall_chunked()\n",
      "  File \"/Users/xiangyuanchi/opt/anaconda3/lib/python3.9/http/client.py\", line 577, in _readall_chunked\n",
      "    chunk_left = self._get_chunk_left()\n",
      "  File \"/Users/xiangyuanchi/opt/anaconda3/lib/python3.9/http/client.py\", line 560, in _get_chunk_left\n",
      "    chunk_left = self._read_next_chunk_size()\n",
      "  File \"/Users/xiangyuanchi/opt/anaconda3/lib/python3.9/http/client.py\", line 520, in _read_next_chunk_size\n",
      "    line = self.fp.readline(_MAXLINE + 1)\n",
      "  File \"/Users/xiangyuanchi/opt/anaconda3/lib/python3.9/socket.py\", line 704, in readinto\n",
      "    return self._sock.recv_into(b)\n",
      "  File \"/Users/xiangyuanchi/opt/anaconda3/lib/python3.9/ssl.py\", line 1241, in recv_into\n",
      "    return self.read(nbytes, buffer)\n",
      "  File \"/Users/xiangyuanchi/opt/anaconda3/lib/python3.9/ssl.py\", line 1099, in read\n",
      "    return self._sslobj.read(len, buffer)\n",
      "ConnectionResetError: [Errno 54] Connection reset by peer\n",
      "2022-11-27 01:56:48,018 CRITICAL [imdbpy] /Users/xiangyuanchi/.local/lib/python3.9/site-packages/imdb/__init__.py:833: caught an exception retrieving or parsing \"main\" info set for mopID \"0418279\" (accessSystem: http)\n",
      "Traceback (most recent call last):\n",
      "  File \"/Users/xiangyuanchi/.local/lib/python3.9/site-packages/imdb/parser/http/__init__.py\", line 222, in retrieve_unicode\n",
      "    content = response.read()\n",
      "  File \"/Users/xiangyuanchi/opt/anaconda3/lib/python3.9/http/client.py\", line 470, in read\n",
      "    return self._readall_chunked()\n",
      "  File \"/Users/xiangyuanchi/opt/anaconda3/lib/python3.9/http/client.py\", line 577, in _readall_chunked\n",
      "    chunk_left = self._get_chunk_left()\n",
      "  File \"/Users/xiangyuanchi/opt/anaconda3/lib/python3.9/http/client.py\", line 560, in _get_chunk_left\n",
      "    chunk_left = self._read_next_chunk_size()\n",
      "  File \"/Users/xiangyuanchi/opt/anaconda3/lib/python3.9/http/client.py\", line 520, in _read_next_chunk_size\n",
      "    line = self.fp.readline(_MAXLINE + 1)\n",
      "  File \"/Users/xiangyuanchi/opt/anaconda3/lib/python3.9/socket.py\", line 704, in readinto\n",
      "    return self._sock.recv_into(b)\n",
      "  File \"/Users/xiangyuanchi/opt/anaconda3/lib/python3.9/ssl.py\", line 1241, in recv_into\n",
      "    return self.read(nbytes, buffer)\n",
      "  File \"/Users/xiangyuanchi/opt/anaconda3/lib/python3.9/ssl.py\", line 1099, in read\n",
      "    return self._sslobj.read(len, buffer)\n",
      "ConnectionResetError: [Errno 54] Connection reset by peer\n",
      "\n",
      "During handling of the above exception, another exception occurred:\n",
      "\n",
      "Traceback (most recent call last):\n",
      "  File \"/Users/xiangyuanchi/.local/lib/python3.9/site-packages/imdb/__init__.py\", line 831, in update\n",
      "    ret = method(mopID)\n",
      "  File \"/Users/xiangyuanchi/.local/lib/python3.9/site-packages/imdb/parser/http/__init__.py\", line 468, in get_movie_main\n",
      "    cont = self._retrieve(self.urls['movie_main'] % movieID + 'reference')\n",
      "  File \"/Users/xiangyuanchi/.local/lib/python3.9/site-packages/imdb/parser/http/__init__.py\", line 379, in _retrieve\n",
      "    ret = self.urlOpener.retrieve_unicode(url, size=size)\n",
      "  File \"/Users/xiangyuanchi/.local/lib/python3.9/site-packages/imdb/parser/http/__init__.py\", line 249, in retrieve_unicode\n",
      "    raise IMDbDataAccessError(\n",
      "imdb._exceptions.IMDbDataAccessError: {'errcode': 54, 'errmsg': 'Connection reset by peer', 'url': 'https://www.imdb.com/title/tt0418279/reference', 'proxy': '', 'exception type': 'IOError', 'original exception': ConnectionResetError(54, 'Connection reset by peer')}\n"
     ]
    }
   ],
   "source": [
    "ia = Cinemagoer()\n",
    "rows = []\n",
    "\n",
    "def update(s):\n",
    "    movie = ia.get_movie(s)\n",
    "    return movie[\"rating\"]\n",
    "\n",
    "for i,j in v_df.iterrows():\n",
    "    base = \"https://www.imdb.com/title/\"\n",
    "    link_id = j[\"imdb_id\"] #tt0078748\n",
    "    link = base + link_id + \"/\"\n",
    "    \n",
    "    search_id = link_id.lstrip(\"t\") #0078748\n",
    "    try:\n",
    "        score_online = update(search_id)\n",
    "        row = [score_online,link]\n",
    "        rows.append(row)\n",
    "    #print(row)\n",
    "    except:\n",
    "        rows.append([])"
   ]
  },
  {
   "cell_type": "code",
   "execution_count": 536,
   "id": "61506240",
   "metadata": {},
   "outputs": [],
   "source": [
    "cinema = pd.DataFrame(rows, columns=[\"online_score\", \"imdb_link\"])\n",
    "new_v_df = v_df.reset_index(drop=True)\n",
    "result = pd.concat([new_v_df, cinema], axis=1, join='inner')\n",
    "#result = result[]\n",
    "# Reference: \n",
    "# https://www.geeksforgeeks.org/how-to-combine-two-dataframe-in-python-pandas/\n",
    "# https://pandas.pydata.org/pandas-docs/stable/user_guide/merging.html"
   ]
  },
  {
   "cell_type": "code",
   "execution_count": 537,
   "id": "e8fd0a9e",
   "metadata": {},
   "outputs": [
    {
     "data": {
      "text/html": [
       "<div>\n",
       "<style scoped>\n",
       "    .dataframe tbody tr th:only-of-type {\n",
       "        vertical-align: middle;\n",
       "    }\n",
       "\n",
       "    .dataframe tbody tr th {\n",
       "        vertical-align: top;\n",
       "    }\n",
       "\n",
       "    .dataframe thead th {\n",
       "        text-align: right;\n",
       "    }\n",
       "</style>\n",
       "<table border=\"1\" class=\"dataframe\">\n",
       "  <thead>\n",
       "    <tr style=\"text-align: right;\">\n",
       "      <th></th>\n",
       "      <th>id</th>\n",
       "      <th>title</th>\n",
       "      <th>imdb_id</th>\n",
       "      <th>genres</th>\n",
       "      <th>budget</th>\n",
       "      <th>revenue</th>\n",
       "      <th>production_companies</th>\n",
       "      <th>popularity</th>\n",
       "      <th>spoken_languages</th>\n",
       "      <th>release_date</th>\n",
       "      <th>vote_average</th>\n",
       "      <th>vote_count</th>\n",
       "      <th>score</th>\n",
       "      <th>online_score</th>\n",
       "      <th>imdb_link</th>\n",
       "    </tr>\n",
       "  </thead>\n",
       "  <tbody>\n",
       "    <tr>\n",
       "      <th>0</th>\n",
       "      <td>321612</td>\n",
       "      <td>Beauty and the Beast</td>\n",
       "      <td>tt2771200</td>\n",
       "      <td>[{'id': 10751, 'name': 'Family'}, {'id': 14, '...</td>\n",
       "      <td>160000000</td>\n",
       "      <td>1.262886e+09</td>\n",
       "      <td>[{'name': 'Walt Disney Pictures', 'id': 2}, {'...</td>\n",
       "      <td>287.253654</td>\n",
       "      <td>[{'iso_639_1': 'en', 'name': 'English'}]</td>\n",
       "      <td>2017</td>\n",
       "      <td>6.8</td>\n",
       "      <td>5530.0</td>\n",
       "      <td>6.795</td>\n",
       "      <td>7.1</td>\n",
       "      <td>https://www.imdb.com/title/tt2771200/</td>\n",
       "    </tr>\n",
       "    <tr>\n",
       "      <th>1</th>\n",
       "      <td>283995</td>\n",
       "      <td>Guardians of the Galaxy Vol. 2</td>\n",
       "      <td>tt3896198</td>\n",
       "      <td>[{'id': 28, 'name': 'Action'}, {'id': 12, 'nam...</td>\n",
       "      <td>200000000</td>\n",
       "      <td>8.634161e+08</td>\n",
       "      <td>[{'name': 'Walt Disney Pictures', 'id': 2}, {'...</td>\n",
       "      <td>185.330992</td>\n",
       "      <td>[{'iso_639_1': 'en', 'name': 'English'}]</td>\n",
       "      <td>2017</td>\n",
       "      <td>7.6</td>\n",
       "      <td>4858.0</td>\n",
       "      <td>7.587</td>\n",
       "      <td>7.6</td>\n",
       "      <td>https://www.imdb.com/title/tt3896198/</td>\n",
       "    </tr>\n",
       "    <tr>\n",
       "      <th>2</th>\n",
       "      <td>680</td>\n",
       "      <td>Pulp Fiction</td>\n",
       "      <td>tt0110912</td>\n",
       "      <td>[{'id': 53, 'name': 'Thriller'}, {'id': 80, 'n...</td>\n",
       "      <td>8000000</td>\n",
       "      <td>2.139288e+08</td>\n",
       "      <td>[{'name': 'Miramax Films', 'id': 14}, {'name':...</td>\n",
       "      <td>140.950236</td>\n",
       "      <td>[{'iso_639_1': 'en', 'name': 'English'}, {'iso...</td>\n",
       "      <td>1994</td>\n",
       "      <td>8.3</td>\n",
       "      <td>8670.0</td>\n",
       "      <td>8.289</td>\n",
       "      <td>8.9</td>\n",
       "      <td>https://www.imdb.com/title/tt0110912/</td>\n",
       "    </tr>\n",
       "    <tr>\n",
       "      <th>3</th>\n",
       "      <td>155</td>\n",
       "      <td>The Dark Knight</td>\n",
       "      <td>tt0468569</td>\n",
       "      <td>[{'id': 18, 'name': 'Drama'}, {'id': 28, 'name...</td>\n",
       "      <td>185000000</td>\n",
       "      <td>1.004558e+09</td>\n",
       "      <td>[{'name': 'DC Comics', 'id': 429}, {'name': 'L...</td>\n",
       "      <td>123.167259</td>\n",
       "      <td>[{'iso_639_1': 'en', 'name': 'English'}, {'iso...</td>\n",
       "      <td>2008</td>\n",
       "      <td>8.3</td>\n",
       "      <td>12269.0</td>\n",
       "      <td>8.292</td>\n",
       "      <td>9.0</td>\n",
       "      <td>https://www.imdb.com/title/tt0468569/</td>\n",
       "    </tr>\n",
       "    <tr>\n",
       "      <th>4</th>\n",
       "      <td>360249</td>\n",
       "      <td>The Last King</td>\n",
       "      <td>tt4738360</td>\n",
       "      <td>[{'id': 28, 'name': 'Action'}, {'id': 12, 'nam...</td>\n",
       "      <td>5455000</td>\n",
       "      <td>0.000000e+00</td>\n",
       "      <td>[{'name': 'Newgrange Pictures', 'id': 16076}, ...</td>\n",
       "      <td>50.949523</td>\n",
       "      <td>[{'iso_639_1': 'de', 'name': 'Deutsch'}, {'iso...</td>\n",
       "      <td>2016</td>\n",
       "      <td>5.2</td>\n",
       "      <td>47.0</td>\n",
       "      <td>5.683</td>\n",
       "      <td>6.1</td>\n",
       "      <td>https://www.imdb.com/title/tt4738360/</td>\n",
       "    </tr>\n",
       "    <tr>\n",
       "      <th>...</th>\n",
       "      <td>...</td>\n",
       "      <td>...</td>\n",
       "      <td>...</td>\n",
       "      <td>...</td>\n",
       "      <td>...</td>\n",
       "      <td>...</td>\n",
       "      <td>...</td>\n",
       "      <td>...</td>\n",
       "      <td>...</td>\n",
       "      <td>...</td>\n",
       "      <td>...</td>\n",
       "      <td>...</td>\n",
       "      <td>...</td>\n",
       "      <td>...</td>\n",
       "      <td>...</td>\n",
       "    </tr>\n",
       "    <tr>\n",
       "      <th>480</th>\n",
       "      <td>10085</td>\n",
       "      <td>Unrest</td>\n",
       "      <td>tt0453533</td>\n",
       "      <td>[{'id': 27, 'name': 'Horror'}]</td>\n",
       "      <td>0</td>\n",
       "      <td>0.000000e+00</td>\n",
       "      <td>[{'name': 'Asgaard Entertainment', 'id': 2714}...</td>\n",
       "      <td>2.159288</td>\n",
       "      <td>[{'iso_639_1': 'en', 'name': 'English'}, {'iso...</td>\n",
       "      <td>2006</td>\n",
       "      <td>5.3</td>\n",
       "      <td>45.0</td>\n",
       "      <td>5.744</td>\n",
       "      <td>5.0</td>\n",
       "      <td>https://www.imdb.com/title/tt0453533/</td>\n",
       "    </tr>\n",
       "    <tr>\n",
       "      <th>481</th>\n",
       "      <td>6007</td>\n",
       "      <td>Elling</td>\n",
       "      <td>tt0279064</td>\n",
       "      <td>[{'id': 35, 'name': 'Comedy'}, {'id': 18, 'nam...</td>\n",
       "      <td>0</td>\n",
       "      <td>0.000000e+00</td>\n",
       "      <td>[{'name': 'Maipo Film- og TV Produksjon', 'id'...</td>\n",
       "      <td>2.148946</td>\n",
       "      <td>[{'iso_639_1': 'no', 'name': 'Norsk'}]</td>\n",
       "      <td>2001</td>\n",
       "      <td>7.0</td>\n",
       "      <td>51.0</td>\n",
       "      <td>6.619</td>\n",
       "      <td>7.5</td>\n",
       "      <td>https://www.imdb.com/title/tt0279064/</td>\n",
       "    </tr>\n",
       "    <tr>\n",
       "      <th>482</th>\n",
       "      <td>48714</td>\n",
       "      <td>The Big Shave</td>\n",
       "      <td>tt0061402</td>\n",
       "      <td>[{'id': 18, 'name': 'Drama'}]</td>\n",
       "      <td>0</td>\n",
       "      <td>0.000000e+00</td>\n",
       "      <td>[]</td>\n",
       "      <td>2.116885</td>\n",
       "      <td>[{'iso_639_1': 'en', 'name': 'English'}]</td>\n",
       "      <td>1968</td>\n",
       "      <td>6.9</td>\n",
       "      <td>47.0</td>\n",
       "      <td>6.552</td>\n",
       "      <td>7.0</td>\n",
       "      <td>https://www.imdb.com/title/tt0061402/</td>\n",
       "    </tr>\n",
       "    <tr>\n",
       "      <th>483</th>\n",
       "      <td>14016</td>\n",
       "      <td>Mad Detective</td>\n",
       "      <td>tt0969269</td>\n",
       "      <td>[{'id': 28, 'name': 'Action'}, {'id': 80, 'nam...</td>\n",
       "      <td>0</td>\n",
       "      <td>0.000000e+00</td>\n",
       "      <td>[{'name': 'Milky Way Image Company', 'id': 5632}]</td>\n",
       "      <td>2.061375</td>\n",
       "      <td>[{'iso_639_1': 'zh', 'name': '普通话'}]</td>\n",
       "      <td>2007</td>\n",
       "      <td>7.0</td>\n",
       "      <td>45.0</td>\n",
       "      <td>6.594</td>\n",
       "      <td>7.1</td>\n",
       "      <td>https://www.imdb.com/title/tt0969269/</td>\n",
       "    </tr>\n",
       "    <tr>\n",
       "      <th>484</th>\n",
       "      <td>55960</td>\n",
       "      <td>Toto, Peppino, and the Hussy</td>\n",
       "      <td>tt0049866</td>\n",
       "      <td>[{'id': 35, 'name': 'Comedy'}]</td>\n",
       "      <td>0</td>\n",
       "      <td>0.000000e+00</td>\n",
       "      <td>[{'name': 'Titanus', 'id': 641}]</td>\n",
       "      <td>2.032722</td>\n",
       "      <td>[{'iso_639_1': 'it', 'name': 'Italiano'}]</td>\n",
       "      <td>1956</td>\n",
       "      <td>8.3</td>\n",
       "      <td>48.0</td>\n",
       "      <td>7.278</td>\n",
       "      <td>7.7</td>\n",
       "      <td>https://www.imdb.com/title/tt0049866/</td>\n",
       "    </tr>\n",
       "  </tbody>\n",
       "</table>\n",
       "<p>485 rows × 15 columns</p>\n",
       "</div>"
      ],
      "text/plain": [
       "         id                           title    imdb_id  \\\n",
       "0    321612            Beauty and the Beast  tt2771200   \n",
       "1    283995  Guardians of the Galaxy Vol. 2  tt3896198   \n",
       "2       680                    Pulp Fiction  tt0110912   \n",
       "3       155                 The Dark Knight  tt0468569   \n",
       "4    360249                   The Last King  tt4738360   \n",
       "..      ...                             ...        ...   \n",
       "480   10085                          Unrest  tt0453533   \n",
       "481    6007                          Elling  tt0279064   \n",
       "482   48714                   The Big Shave  tt0061402   \n",
       "483   14016                   Mad Detective  tt0969269   \n",
       "484   55960    Toto, Peppino, and the Hussy  tt0049866   \n",
       "\n",
       "                                                genres     budget  \\\n",
       "0    [{'id': 10751, 'name': 'Family'}, {'id': 14, '...  160000000   \n",
       "1    [{'id': 28, 'name': 'Action'}, {'id': 12, 'nam...  200000000   \n",
       "2    [{'id': 53, 'name': 'Thriller'}, {'id': 80, 'n...    8000000   \n",
       "3    [{'id': 18, 'name': 'Drama'}, {'id': 28, 'name...  185000000   \n",
       "4    [{'id': 28, 'name': 'Action'}, {'id': 12, 'nam...    5455000   \n",
       "..                                                 ...        ...   \n",
       "480                     [{'id': 27, 'name': 'Horror'}]          0   \n",
       "481  [{'id': 35, 'name': 'Comedy'}, {'id': 18, 'nam...          0   \n",
       "482                      [{'id': 18, 'name': 'Drama'}]          0   \n",
       "483  [{'id': 28, 'name': 'Action'}, {'id': 80, 'nam...          0   \n",
       "484                     [{'id': 35, 'name': 'Comedy'}]          0   \n",
       "\n",
       "          revenue                               production_companies  \\\n",
       "0    1.262886e+09  [{'name': 'Walt Disney Pictures', 'id': 2}, {'...   \n",
       "1    8.634161e+08  [{'name': 'Walt Disney Pictures', 'id': 2}, {'...   \n",
       "2    2.139288e+08  [{'name': 'Miramax Films', 'id': 14}, {'name':...   \n",
       "3    1.004558e+09  [{'name': 'DC Comics', 'id': 429}, {'name': 'L...   \n",
       "4    0.000000e+00  [{'name': 'Newgrange Pictures', 'id': 16076}, ...   \n",
       "..            ...                                                ...   \n",
       "480  0.000000e+00  [{'name': 'Asgaard Entertainment', 'id': 2714}...   \n",
       "481  0.000000e+00  [{'name': 'Maipo Film- og TV Produksjon', 'id'...   \n",
       "482  0.000000e+00                                                 []   \n",
       "483  0.000000e+00  [{'name': 'Milky Way Image Company', 'id': 5632}]   \n",
       "484  0.000000e+00                   [{'name': 'Titanus', 'id': 641}]   \n",
       "\n",
       "     popularity                                   spoken_languages  \\\n",
       "0    287.253654           [{'iso_639_1': 'en', 'name': 'English'}]   \n",
       "1    185.330992           [{'iso_639_1': 'en', 'name': 'English'}]   \n",
       "2    140.950236  [{'iso_639_1': 'en', 'name': 'English'}, {'iso...   \n",
       "3    123.167259  [{'iso_639_1': 'en', 'name': 'English'}, {'iso...   \n",
       "4     50.949523  [{'iso_639_1': 'de', 'name': 'Deutsch'}, {'iso...   \n",
       "..          ...                                                ...   \n",
       "480    2.159288  [{'iso_639_1': 'en', 'name': 'English'}, {'iso...   \n",
       "481    2.148946             [{'iso_639_1': 'no', 'name': 'Norsk'}]   \n",
       "482    2.116885           [{'iso_639_1': 'en', 'name': 'English'}]   \n",
       "483    2.061375               [{'iso_639_1': 'zh', 'name': '普通话'}]   \n",
       "484    2.032722          [{'iso_639_1': 'it', 'name': 'Italiano'}]   \n",
       "\n",
       "    release_date  vote_average  vote_count  score  online_score  \\\n",
       "0           2017           6.8      5530.0  6.795           7.1   \n",
       "1           2017           7.6      4858.0  7.587           7.6   \n",
       "2           1994           8.3      8670.0  8.289           8.9   \n",
       "3           2008           8.3     12269.0  8.292           9.0   \n",
       "4           2016           5.2        47.0  5.683           6.1   \n",
       "..           ...           ...         ...    ...           ...   \n",
       "480         2006           5.3        45.0  5.744           5.0   \n",
       "481         2001           7.0        51.0  6.619           7.5   \n",
       "482         1968           6.9        47.0  6.552           7.0   \n",
       "483         2007           7.0        45.0  6.594           7.1   \n",
       "484         1956           8.3        48.0  7.278           7.7   \n",
       "\n",
       "                                 imdb_link  \n",
       "0    https://www.imdb.com/title/tt2771200/  \n",
       "1    https://www.imdb.com/title/tt3896198/  \n",
       "2    https://www.imdb.com/title/tt0110912/  \n",
       "3    https://www.imdb.com/title/tt0468569/  \n",
       "4    https://www.imdb.com/title/tt4738360/  \n",
       "..                                     ...  \n",
       "480  https://www.imdb.com/title/tt0453533/  \n",
       "481  https://www.imdb.com/title/tt0279064/  \n",
       "482  https://www.imdb.com/title/tt0061402/  \n",
       "483  https://www.imdb.com/title/tt0969269/  \n",
       "484  https://www.imdb.com/title/tt0049866/  \n",
       "\n",
       "[485 rows x 15 columns]"
      ]
     },
     "execution_count": 537,
     "metadata": {},
     "output_type": "execute_result"
    }
   ],
   "source": [
    "result"
   ]
  },
  {
   "cell_type": "markdown",
   "id": "ef1b05ca",
   "metadata": {},
   "source": [
    "# Upload datasets into the firebase & Create an EDFS \n",
    "\n",
    "NameNode: Information dataset, which stores the metadata\n",
    "\n",
    "DataNode:  year(DN_1), genres(DN_2), popularity(DN_3), scores(DN_4), languages(DN_5)"
   ]
  },
  {
   "cell_type": "markdown",
   "id": "902bc048",
   "metadata": {},
   "source": [
    "### NameNode Upload: Information dataset"
   ]
  },
  {
   "cell_type": "code",
   "execution_count": 538,
   "id": "2dd19a01",
   "metadata": {},
   "outputs": [],
   "source": [
    "str_genres = []\n",
    "for i in new_genres:\n",
    "    item = \", \".join(i)\n",
    "    str_genres.append(item)\n",
    "\n",
    "str_company = []\n",
    "for j in new_company:\n",
    "    item = \", \".join(j)\n",
    "    str_company.append(item)\n",
    "\n",
    "str_language = []\n",
    "for k in new_language:\n",
    "    item = \", \".join(k)\n",
    "    str_language.append(item)\n",
    "    "
   ]
  },
  {
   "cell_type": "code",
   "execution_count": 539,
   "id": "5b741df7",
   "metadata": {},
   "outputs": [],
   "source": [
    "information = {\"id\":df.id,\"new_genres\": str_genres, \"new_company\":str_company,\"new_language\": str_language}\n",
    "information_df = pd.DataFrame(information)\n",
    "#print(information_df)\n",
    "upload_info = pd.merge(df,information_df, how =\"left\", on = \"id\")\n",
    "upload_info = upload_info[[\"id\",\"title\",\"imdb_id\",\"new_genres\",\"new_company\",\"new_language\",\"release_date\",\"popularity\"]]\n",
    "\n",
    "sub_v_df = v_df[[\"id\", \"score\"]]\n",
    "upload_info = pd.merge(upload_info,sub_v_df,how = \"left\", on = \"id\")\n",
    "upload_info = upload_info.dropna()\n",
    "\n",
    "# Reference: \n",
    "# https://pandas.pydata.org/docs/reference/api/pandas.DataFrame.merge.html"
   ]
  },
  {
   "cell_type": "code",
   "execution_count": 540,
   "id": "fac84627",
   "metadata": {},
   "outputs": [],
   "source": [
    "cls = list(upload_info.columns)\n",
    "# ['id', 'title', 'imdb_id', 'new_genres', 'new_company', 'new_language', 'release_date', 'popularity', 'score']\n",
    "\n",
    "for i,j in upload_info.iterrows():\n",
    "    data = {}\n",
    "    for k in range(len(cls)):\n",
    "        data[cls[k]] = j[k]\n",
    "    json_data = json.dumps(data, indent = 4)\n",
    "    url = \"https://imdb-movies-d490a-default-rtdb.firebaseio.com/information\" + \"/\" + str(j[1]) + \".json\"\n",
    "    r = requests.put(url,str(json_data))"
   ]
  },
  {
   "cell_type": "code",
   "execution_count": null,
   "id": "3bc49dbd",
   "metadata": {},
   "outputs": [],
   "source": []
  },
  {
   "cell_type": "markdown",
   "id": "baf27782",
   "metadata": {},
   "source": [
    "### DataNode Upload: year, genres, popularity, scores, language"
   ]
  },
  {
   "cell_type": "code",
   "execution_count": 541,
   "id": "9c47289c",
   "metadata": {},
   "outputs": [],
   "source": [
    "r = requests.get(\"https://imdb-movies-d490a-default-rtdb.firebaseio.com/information.json\")\n",
    "info_name = r.json()"
   ]
  },
  {
   "cell_type": "code",
   "execution_count": 542,
   "id": "ebed4b48",
   "metadata": {},
   "outputs": [],
   "source": [
    "#info_name"
   ]
  },
  {
   "cell_type": "markdown",
   "id": "d2a63b96",
   "metadata": {},
   "source": [
    "#### DN_1: year"
   ]
  },
  {
   "cell_type": "code",
   "execution_count": 551,
   "id": "30a7b968",
   "metadata": {},
   "outputs": [],
   "source": [
    "year_dic = {}\n",
    "for name in info_name:\n",
    "    item_dic = info_name[name]\n",
    "    try:\n",
    "        title = item_dic[\"title\"]\n",
    "        str_year = item_dic[\"release_date\"]\n",
    "        if str_year not in year_dic:\n",
    "            year_dic[str_year] = [title]\n",
    "        else:\n",
    "            year_dic[str_year].append(title)\n",
    "    except:\n",
    "        continue\n",
    "        \n",
    "year_dic = {k:v for k,v in sorted(year_dic.items(), key = lambda x:x[0])}"
   ]
  },
  {
   "cell_type": "markdown",
   "id": "ca476523",
   "metadata": {},
   "source": [
    "#### DN_2: genres"
   ]
  },
  {
   "cell_type": "code",
   "execution_count": 544,
   "id": "10fed794",
   "metadata": {},
   "outputs": [],
   "source": [
    "genres_new = {}\n",
    "for name in info_name:\n",
    "    item_dic = info_name[name]\n",
    "    try:\n",
    "        title = item_dic[\"title\"]\n",
    "        genres_lst = item_dic[\"new_genres\"].split(\", \")\n",
    "        for i in genres_lst:\n",
    "            if i not in genres_new:\n",
    "                genres_new[i] = [title]\n",
    "            else:\n",
    "                genres_new[i].append(title)\n",
    "    except:\n",
    "        continue"
   ]
  },
  {
   "cell_type": "markdown",
   "id": "3acf8d84",
   "metadata": {},
   "source": [
    "#### DN_3: popularity"
   ]
  },
  {
   "cell_type": "code",
   "execution_count": 545,
   "id": "d6891663",
   "metadata": {},
   "outputs": [],
   "source": [
    "nums = []\n",
    "pop_lst = []\n",
    "for name in info_name:\n",
    "    item_dic = info_name[name]\n",
    "    try:\n",
    "        nums.append(round(item_dic[\"popularity\"]))\n",
    "        pop_lst.append((name,round(item_dic[\"popularity\"])))\n",
    "    except:\n",
    "        continue"
   ]
  },
  {
   "cell_type": "code",
   "execution_count": 546,
   "id": "4630f22e",
   "metadata": {},
   "outputs": [],
   "source": [
    "sort_nums = list(set(sorted(nums)))\n",
    "pop_dic = {item:[] for item in sort_nums}\n",
    "for pop in pop_lst:\n",
    "    pop_dic[pop[1]].append(pop[0])\n",
    "pop_dic = {k:v for k,v in sorted(pop_dic.items(), key = lambda x:x[0])}"
   ]
  },
  {
   "cell_type": "markdown",
   "id": "cabcdf0d",
   "metadata": {},
   "source": [
    "#### DN_4: score"
   ]
  },
  {
   "cell_type": "code",
   "execution_count": 491,
   "id": "20e03517",
   "metadata": {},
   "outputs": [],
   "source": [
    "nums2 = []\n",
    "score_lst = []\n",
    "for name in info_name:\n",
    "    item_dic = info_name[name]\n",
    "    try:\n",
    "        nums2.append(round(item_dic[\"score\"]))\n",
    "        score_lst.append((name,round(item_dic[\"score\"])))\n",
    "    except:\n",
    "        continue"
   ]
  },
  {
   "cell_type": "code",
   "execution_count": 492,
   "id": "9902f52a",
   "metadata": {},
   "outputs": [],
   "source": [
    "sort_nums2 = list(set(sorted(nums2)))\n",
    "score_dic = {item:[] for item in sort_nums2}\n",
    "for score in score_lst:\n",
    "    score_dic[score[1]].append(score[0])\n",
    "score_dic = {k:v for k,v in sorted(score_dic.items(), key = lambda x:x[0])}"
   ]
  },
  {
   "cell_type": "code",
   "execution_count": null,
   "id": "fc8f49a6",
   "metadata": {},
   "outputs": [],
   "source": []
  },
  {
   "cell_type": "markdown",
   "id": "07149afb",
   "metadata": {},
   "source": [
    "#### DN_5: languages"
   ]
  },
  {
   "cell_type": "code",
   "execution_count": 547,
   "id": "ab53df89",
   "metadata": {},
   "outputs": [],
   "source": [
    "language_new = {}\n",
    "for name in info_name:\n",
    "    item_dic = info_name[name]\n",
    "    try:\n",
    "        title = item_dic[\"title\"]\n",
    "        language_lst = item_dic[\"new_language\"].split(\", \")\n",
    "        for i in language_lst:\n",
    "            if i not in language_new:\n",
    "                language_new[i] = [title]\n",
    "            else:\n",
    "                language_new[i].append(title)\n",
    "    except:\n",
    "        continue"
   ]
  },
  {
   "cell_type": "code",
   "execution_count": 548,
   "id": "c24aa766",
   "metadata": {},
   "outputs": [],
   "source": [
    "def put_lang(lang):\n",
    "    base = \"https://imdb-movies-d490a-default-rtdb.firebaseio.com/language/\"\n",
    "    link = base + lang + \".json\" \n",
    "    r = requests.put(link, data = json_object)\n",
    "\n",
    "for i in language_new:\n",
    "    if len(i) != 0:\n",
    "        json_object = json.dumps(language_new[i],indent = 4) # language_new[i] is a list\n",
    "        genres_db = put_lang(i)\n",
    "    else:\n",
    "        continue"
   ]
  },
  {
   "cell_type": "markdown",
   "id": "ad8b6939",
   "metadata": {},
   "source": [
    "#### Upload 4 DataNodes to firebase database"
   ]
  },
  {
   "cell_type": "code",
   "execution_count": 553,
   "id": "ece6d3d8",
   "metadata": {},
   "outputs": [],
   "source": [
    "def put(table):\n",
    "    base = \"https://imdb-movies-d490a-default-rtdb.firebaseio.com/\"\n",
    "    link = base + table + \"/.json\" \n",
    "    r = requests.put(link, data = json_object)\n",
    "    \n",
    "\n",
    "namelist = [\"year\",\"genres\",\"popularity\",\"language\"]\n",
    "dic_lst = [year_dic,genres_new,pop_dic,language_new]\n",
    "\n",
    "for i in range(len(namelist)):\n",
    "    for j in dic_lst[i]:\n",
    "        try:\n",
    "            if len(j) != 0:\n",
    "                json_object = json.dumps(dic_lst[i], indent = 4)\n",
    "                db = put(namelist[i])\n",
    "            else:\n",
    "                continue\n",
    "        except:\n",
    "            json_object = json.dumps(dic_lst[i], indent = 4)\n",
    "            db = put(namelist[i])"
   ]
  },
  {
   "cell_type": "code",
   "execution_count": null,
   "id": "9c2a799f",
   "metadata": {},
   "outputs": [],
   "source": []
  },
  {
   "cell_type": "markdown",
   "id": "8ffd8c82",
   "metadata": {},
   "source": [
    "#### Upload score dataset for further analysis (not for partition)"
   ]
  },
  {
   "cell_type": "code",
   "execution_count": 550,
   "id": "7efa52a2",
   "metadata": {},
   "outputs": [],
   "source": [
    "### score dataset\n",
    "upload_score = result[[\"title\", \"imdb_id\",\"vote_average\", \"score\",\"online_score\"]]\n",
    "columns = list(upload_score.columns)\n",
    "for i,j in upload_score.iterrows():\n",
    "    data = {}\n",
    "    for k in range(len(columns)):\n",
    "        data[columns[k]] = j[k]\n",
    "    json_data = json.dumps(data,indent = 4)\n",
    "    url = \"https://imdb-movies-d490a-default-rtdb.firebaseio.com/scores\" + \"/\" + str(j[0]) + \".json\"\n",
    "    r = requests.put(url, str(json_data))\n",
    "\n",
    "# We create a Firebase realtime database for upload the scores of each unique movie\n",
    "# The reference url: https://imdb-movies-d490a-default-rtdb.firebaseio.com/\n",
    "# People can search the movie based on the score_range (eg: 8-10 by curl command)"
   ]
  },
  {
   "cell_type": "code",
   "execution_count": null,
   "id": "9cf44148",
   "metadata": {},
   "outputs": [],
   "source": []
  }
 ],
 "metadata": {
  "kernelspec": {
   "display_name": "Python 3 (ipykernel)",
   "language": "python",
   "name": "python3"
  },
  "language_info": {
   "codemirror_mode": {
    "name": "ipython",
    "version": 3
   },
   "file_extension": ".py",
   "mimetype": "text/x-python",
   "name": "python",
   "nbconvert_exporter": "python",
   "pygments_lexer": "ipython3",
   "version": "3.9.12"
  }
 },
 "nbformat": 4,
 "nbformat_minor": 5
}
