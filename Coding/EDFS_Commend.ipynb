{
 "cells": [
  {
   "cell_type": "code",
   "execution_count": 1,
   "id": "ae17229b",
   "metadata": {},
   "outputs": [],
   "source": [
    "import json\n",
    "import requests\n",
    "import pandas as pd\n",
    "from datetime import datetime"
   ]
  },
  {
   "cell_type": "markdown",
   "id": "d0ff92cf",
   "metadata": {},
   "source": [
    "# Commands in EDFS"
   ]
  },
  {
   "cell_type": "markdown",
   "id": "ebc97ce5",
   "metadata": {},
   "source": [
    "### mkdir: create a directory in file system"
   ]
  },
  {
   "cell_type": "code",
   "execution_count": 442,
   "id": "5da0f98d",
   "metadata": {},
   "outputs": [],
   "source": [
    "base = \"https://imdb-movies-d490a-default-rtdb.firebaseio.com/\"\n",
    "\n",
    "def mkdir(url,path):\n",
    "    now = datetime.now()\n",
    "    date = now.strftime(\"%Y-%m-%d\")\n",
    "    curr = now.strftime(\"%H:%M:%S\")\n",
    "    dic = {date:curr}\n",
    "    data = json.dumps(dic,indent = 4)\n",
    "    link = url + path\n",
    "    r = requests.put(link,data)"
   ]
  },
  {
   "cell_type": "code",
   "execution_count": 443,
   "id": "b5d67c57",
   "metadata": {
    "scrolled": true
   },
   "outputs": [
    {
     "name": "stdout",
     "output_type": "stream",
     "text": [
      "Enter specific directory: test\n"
     ]
    }
   ],
   "source": [
    "new_dir = input(\"Enter specific directory: \")\n",
    "mkdir(base,new_dir + \".json\")"
   ]
  },
  {
   "cell_type": "code",
   "execution_count": null,
   "id": "b449ca37",
   "metadata": {},
   "outputs": [],
   "source": []
  },
  {
   "cell_type": "markdown",
   "id": "35fa3875",
   "metadata": {},
   "source": [
    "### ls: list content of a given directory"
   ]
  },
  {
   "cell_type": "code",
   "execution_count": 444,
   "id": "0c9879cd",
   "metadata": {},
   "outputs": [],
   "source": [
    "def ls(name):\n",
    "    base = \"https://imdb-movies-d490a-default-rtdb.firebaseio.com/\"\n",
    "    directory = base + name\n",
    "    r = requests.get(directory)\n",
    "    dic = r.json()\n",
    "    keys = []\n",
    "    #dir_path = []\n",
    "    for i in dic:\n",
    "        keys.append(i)\n",
    "    return keys"
   ]
  },
  {
   "cell_type": "code",
   "execution_count": 445,
   "id": "d3feff39",
   "metadata": {},
   "outputs": [
    {
     "name": "stdout",
     "output_type": "stream",
     "text": [
      "Enter specific directory: \n",
      "data/genres\n",
      "data/information\n",
      "data/language\n",
      "data/popularity\n",
      "data/scores\n",
      "data/test\n",
      "data/year\n"
     ]
    }
   ],
   "source": [
    "n = input(\"Enter specific directory: \")\n",
    "new_path = ls(n + \"/.json\")\n",
    "#print(new_path)\n",
    "\n",
    "def valid_path():\n",
    "    if len(n) == 0:\n",
    "        base_path = \"data/\"\n",
    "    else:\n",
    "        base_path = \"data/\" + n + \"/\"\n",
    "    return base_path\n",
    "\n",
    "p = valid_path()\n",
    "for i in new_path:\n",
    "    print(p+i)"
   ]
  },
  {
   "cell_type": "code",
   "execution_count": null,
   "id": "6ec4e9bf",
   "metadata": {},
   "outputs": [],
   "source": []
  },
  {
   "cell_type": "markdown",
   "id": "ef0b954e",
   "metadata": {},
   "source": [
    "### cat: display content of a file"
   ]
  },
  {
   "cell_type": "code",
   "execution_count": 436,
   "id": "e261a8ce",
   "metadata": {},
   "outputs": [
    {
     "name": "stdout",
     "output_type": "stream",
     "text": [
      "Enter specific file: genres.json\n"
     ]
    }
   ],
   "source": [
    "file = input(\"Enter specific file: \")\n",
    "def cat(file):\n",
    "    base = \"https://imdb-movies-d490a-default-rtdb.firebaseio.com/\"\n",
    "    link = base + file\n",
    "    content = requests.get(link)\n",
    "    txt = content.text\n",
    "    d = content.json()\n",
    "    return d"
   ]
  },
  {
   "cell_type": "code",
   "execution_count": 437,
   "id": "7c2dd6f0",
   "metadata": {},
   "outputs": [
    {
     "name": "stdout",
     "output_type": "stream",
     "text": [
      "Action : ['300', '13 Assassins', '13 Hours: The Secret Soldiers of Benghazi', '2 Fast 2 Furious', 'A Night to Remember', 'Abraham Lincoln: Vampire Hunter', 'Altitude', \"Assassin's Creed: Lineage\", 'Avenging Angelo', 'Babylon 5: In the Beginning', 'Badges of Fury', 'Bangkok Dangerous', 'Beverly Hills Cop II', 'Beverly Hills Ninja', 'Bhaag Milkha Bhaag', 'Big Game', 'Black Mask', 'Bloody Sunday', 'Braveheart', 'Breakdown', 'Bronco Billy', 'Cat Run', 'Changing Lanes', 'Conan the Destroyer', 'Conspiracy Theory', 'Cowboy Bebop: The Movie', 'Die Another Day', 'Dragonball Evolution', 'Fighting', 'First Blood', 'Free State of Jones', 'Get the Gringo', 'Ghost in the Shell: Stand Alone Complex - Solid State Society', 'Gone in Sixty Seconds', 'Hackers', 'Hancock', 'Highlander V: The Source', 'Hitman: Agent 47', 'How I Live Now', 'I Am a Hero', 'Inglourious Basterds', 'Iron Monkey', 'Johnny Dangerously', 'Kingsglaive: Final Fantasy XV', 'Knock Off', 'Lone Survivor', 'Mad City', 'Mad Detective', 'Mad Max Beyond Thunderdome', 'Made', 'Marked for Death', 'Miss Congeniality', \"No Man's Land\", 'Nowhere to Run', 'Octopussy', 'Planet Hulk', 'Rush', 'Rush Hour 3', 'Sicario', 'Sky Captain and the World of Tomorrow', 'Sleepless', \"Smilla's Sense of Snow\", 'Smokey and the Bandit II', 'Starship Troopers', 'Street Fighter', 'Sucker Punch', 'Terminator Salvation', 'The Adderall Diaries', 'The Alamo', 'The Crazies', 'The Crow: City of Angels', 'The Dark Knight', 'The Fugitive', 'The Getaway', 'The Gods Must Be Crazy II', 'The Hard Way', 'The Last King', 'The League of Extraordinary Gentlemen', 'The Lone Ranger', 'The Matador', 'The Matrix', 'The Pink Panther', 'The Powerpuff Girls Movie', 'The Purge: Election Year', \"The Sorcerer's Apprentice\", 'The Tower', 'The Tuxedo', 'Thief', 'Top Gun', 'Transformers', 'Tremors 5: Bloodlines', 'Turbo Kid', 'Uncommon Valor', 'Under Siege 2: Dark Territory', 'Undercover Brother', 'Undisputed II: Last Man Standing', 'Unlocked', 'Valhalla Rising', 'Violent Cop', 'Warrior', 'Welcome to the Punch', 'Windtalkers', 'Æon Flux']\n",
      "Adventure : ['300', '13 Assassins', 'A Trip to the Moon', 'Babylon 5: In the Beginning', 'Big Game', 'Bloody Sunday', 'Changing Lanes', 'Conan the Destroyer', 'Die Another Day', 'Double zéro', 'Dragonball Evolution', 'Everest', 'Fantomas', 'Fighting', 'First Blood', 'Hercules', 'Hook', 'Iron Will', 'Khumba', 'King Arthur', 'Kingsglaive: Final Fantasy XV', 'Knock Off', 'Little Monsters', 'Lord of the Flies', 'Mad Max Beyond Thunderdome', 'Monsters vs Aliens', 'Mortdecai', 'Night at the Museum: Secret of the Tomb', 'No Time for Nuts', 'Nowhere to Run', 'Octopussy', 'Planet 51', 'Shrek', 'Sky Captain and the World of Tomorrow', 'Stargate: Continuum', 'Starship Troopers', 'Street Fighter', 'The Alamo', 'The Brave Little Toaster', 'The Flight of the Phoenix', 'The Fugitive', \"The Hitchhiker's Guide to the Galaxy\", 'The Karate Kid, Part III', 'The Last King', 'The Life Aquatic with Steve Zissou', 'The Lone Ranger', 'The Lost Future', 'The Pirates! In an Adventure with Scientists!', \"The Sorcerer's Apprentice\", 'Transformers', 'Turbo Kid', 'Uncommon Valor', 'Valhalla Rising', 'Welcome to the Punch']\n",
      "Animation : ['Animals United', 'Barbie Presents: Thumbelina', 'Barbie and the Diamond Castle', 'Cloudy with a Chance of Meatballs', 'Cowboy Bebop: The Movie', 'Fresh Guacamole', 'Ghost in the Shell: Stand Alone Complex - Solid State Society', 'Gnomeo & Juliet', 'Hercules', 'Jin-Roh: The Wolf Brigade', 'Khumba', 'Kingsglaive: Final Fantasy XV', 'Life, Animated', 'Lilo & Stitch 2: Stitch has a Glitch', 'Logorama', 'Maggie Simpson in The Longest Daycare', 'Monsters vs Aliens', 'No Time for Nuts', 'Over the Hedge', 'Piper', 'Planet 51', 'Planet Hulk', \"Pooh's Heffalump Movie\", 'Rejected', 'Shrek', 'Snow White and the Seven Dwarfs', 'The Brave Little Toaster', 'The Pirates! In an Adventure with Scientists!', 'The Powerpuff Girls Movie', 'The Wrong Trousers', 'Thumbelina', 'Tokyo Godfathers', 'Vincent']\n",
      "Comedy : ['101 Dalmatians', \"A Midsummer Night's Sex Comedy\", 'All Ladies Do It', 'An Honest Liar', 'Animals United', 'Arthur', 'As Good as It Gets', 'Avenging Angelo', 'Bad Santa 2', 'Badges of Fury', 'Beaches', 'Beverly Hills Cop II', 'Beverly Hills Ninja', 'Big Fan', 'Biloxi Blues', 'Bottle Rocket', 'Bride of Chucky', 'Bronco Billy', 'Burn After Reading', 'Casino Jack', 'Cat Run', \"Charlotte's Web\", 'Chinese Puzzle', 'Chocolat', 'Cloudy with a Chance of Meatballs', 'Coco', 'Control', \"Dad's Army\", 'Defending Your Life', 'Detention', 'Diary of a Wimpy Kid: Rodrick Rules', 'Diary of a Wimpy Kid: The Long Haul', 'Doctor Dolittle', 'DodgeBall: A True Underdog Story', 'Double zéro', 'Down Periscope', 'Edtv', 'Elf', 'Elling', 'Encino Man', 'Envy', 'Fantomas', 'Four Weddings and a Funeral', 'Fright Night 2: New Blood', 'From Prada to Nada', 'Fuck You Goethe', 'Fuck You Goethe 2', 'Garden State', 'Gigi', 'Grandma', 'Gremlins', \"Gridlock'd\", 'Guys and Dolls', 'Hairspray', 'He Was a Quiet Man', 'Head Over Heels', 'Heathers', 'Hell Baby', 'Hercules', 'Hick', 'High School Musical', 'Holy Smoke!', 'Hook', 'Housesitter', \"I'll Be Home for Christmas\", 'Inherent Vice', 'Italians', 'Jack and Jill', 'Johnny Dangerously', 'Joy', 'Juliet of the Spirits', 'L!fe Happens', 'La Grande Bouffe', 'Les Tuche', 'Life', 'Lilo & Stitch 2: Stitch has a Glitch', 'Little Miss Sunshine', 'Little Monsters', 'Lola Versus', 'Love Is in the Air', 'Love and Death', 'Made', 'Maggie Simpson in The Longest Daycare', 'Man Bites Dog', 'Margot at the Wedding', 'Mascots', 'Meet the Fockers', 'Michael', 'Mike and Dave Need Wedding Dates', 'Miss Congeniality', 'Mon oncle', 'Mortdecai', 'Moscow on the Hudson', 'Mr & Mme Adelman', 'My Afternoons with Margueritte', 'My Dog Skip', 'My Sassy Girl', 'Next Friday', 'Night at the Museum: Secret of the Tomb', 'Nine to Five', 'Nothing to Declare', 'One Fine Day', 'Over the Hedge', 'Paris-Manhattan', 'Planet 51', 'Police Academy 5: Assignment Miami Beach', 'Princess Protection Program', 'Private Benjamin', 'Raising Arizona', 'Rejected', 'Return of the Living Dead 3', 'Revenge of the Bridesmaids', 'Rush Hour 3', 'Save the Date', 'Scary Movie 4', 'Short Circuit', 'Shrek', 'Sliding Doors', 'Smokey and the Bandit II', 'Solitary Man', 'Something to Talk About', 'Soul Kitchen', 'Swept Away', 'Swing Time', 'Swing Vote', 'Syrup', 'Tales from the Crypt: Demon Knight', 'That Thing You Do!', \"The Angels' Share\", 'The Brave Little Toaster', 'The Closet', 'The Discreet Charm of the Bourgeoisie', 'The English Teacher', 'The Escort', 'The Gods Must Be Crazy II', 'The Great Buck Howard', 'The Hard Way', \"The Hitchhiker's Guide to the Galaxy\", 'The Ideal', 'The Intern', 'The Italian', 'The Life Aquatic with Steve Zissou', 'The Love Punch', 'The Madness of King George', 'The Matador', 'The Mighty Ducks', 'The Music Man', 'The Onion Movie', 'The Pink Panther', 'The Pirates! In an Adventure with Scientists!', 'The Princess Diaries', 'The Producers', 'The Right Kind of Wrong', 'The Seven Year Itch', \"The Sorcerer's Apprentice\", 'The Sting', 'The Tall Blond Man with One Black Shoe', 'The Taste of Others', 'The Tuxedo', 'The Wrong Trousers', 'Three to Tango', 'Toto, Peppino, and the Hussy', 'Turbo Kid', 'Twins', 'Undercover Brother', 'Vacation', 'Vai Que Cola - O Filme', 'Very Bad Things', 'View from the Top', 'Welcome to the North', 'What Men Talk About', 'Wild Tales', 'With Open Arms', 'Withnail & I', 'Zombie Strippers!', 'Zookeeper']\n",
      "Crime : ['2 Fast 2 Furious', '36th Precinct', 'A Bronx Tale', 'A History of Violence', 'Alpha Dog', 'American Psycho', 'Atlantic City', 'Avenging Angelo', 'Bad Day at Black Rock', 'Bad Santa 2', 'Badges of Fury', 'Bangkok Dangerous', \"Before the Devil Knows You're Dead\", 'Beverly Hills Cop II', 'Bottle Rocket', 'Butch Cassidy and the Sundance Kid', 'Casino', 'Casino Jack', 'Changing Lanes', 'Control', 'Dog Eat Dog', 'Falling Down', 'Fantomas', 'Fighting', 'Flame & Citron', 'Gangs of New York', 'Get the Gringo', 'Ghost in the Shell: Stand Alone Complex - Solid State Society', 'Gomorrah', 'Gone in Sixty Seconds', \"Gridlock'd\", 'Hackers', 'Hell or High Water', 'Hitman: Agent 47', 'Hoffa', 'In the Valley of Elah', 'Inherent Vice', 'Iron Monkey', 'Johnny Dangerously', 'Life', 'London Boulevard', 'Mad Detective', 'Man Bites Dog', 'Mean Streets', 'Miss Congeniality', 'One Hundred Steps', 'Out of Time', 'Perfect Stranger', 'Police Academy 5: Assignment Miami Beach', 'Pulp Fiction', 'Raising Arizona', 'Reservation Road', 'Rush Hour 3', 'Scum', 'Sicario', 'Sleepers', 'Sleepless', \"Smilla's Sense of Snow\", 'Suburra', 'Suspect', 'Talaash', 'The Absent One', 'The Book of Henry', 'The Client', 'The Dark Knight', 'The Fugitive', 'The Getaway', 'The Hard Way', 'The Infiltrator', 'The Keeper of Lost Causes', 'The Matador', 'The Pink Panther', 'The Sting', 'The Swimming Pool', 'The Trial', 'The United States of Leland', 'Thief', 'Thirteen', 'Trespass', 'Undisputed II: Last Man Standing', 'Very Bad Things', 'Violent Cop', 'Welcome to the Punch', 'White Heat']\n",
      "Documentary : ['An Honest Liar', 'Babies', 'Finding Vivian Maier', 'Forks Over Knives', \"Hearts of Darkness: A Filmmaker's Apocalypse\", 'Helvetica', 'Hot Girls Wanted', 'Janis: Little Girl Blue', 'Life, Animated', 'Sunless', 'Tickled', \"Tim's Vermeer\", 'What the Health', 'Zeitgeist: Moving Forward']\n",
      "Drama : ['13 Assassins', '13 Hours: The Secret Soldiers of Benghazi', '36th Precinct', 'A Bronx Tale', 'A History of Violence', 'A Night to Remember', 'A River Runs Through It', 'A Room with a View', 'All Ladies Do It', 'All Quiet on the Western Front', 'Alpha Dog', 'Alphaville', 'Altered States', 'American Psycho', 'Angel Eyes', 'Arthur', \"Assassin's Creed: Lineage\", 'Atlantic City', 'Autumn in New York', 'Babylon 5: In the Beginning', 'Bad Day at Black Rock', 'Bad Santa 2', 'Beaches', 'Beasts of No Nation', \"Before the Devil Knows You're Dead\", 'Bhaag Milkha Bhaag', 'Big Fan', 'Biloxi Blues', 'Bloody Sunday', 'Bottle Rocket', 'Braveheart', 'Breakdown', 'Breaking the Waves', 'Bronco Billy', 'Burn After Reading', 'Butch Cassidy and the Sundance Kid', 'Casino', 'Casino Jack', 'Center Stage', 'Chinese Puzzle', 'Chocolat', 'Cinema Paradiso', 'Closer', 'Conspiracy Theory', 'Courage Under Fire', 'Crash', 'Defending Your Life', 'Dog Eat Dog', 'Elling', 'Everest', 'Every Thing Will Be Fine', 'Fail-Safe', 'Fair Game', 'Falling Down', 'Falling in Love', 'Far from the Madding Crowd', 'Fighting', 'Finding Forrester', 'Fire in the Sky', 'Flame & Citron', 'Four Weddings and a Funeral', 'Free Fall', 'Free State of Jones', 'From Prada to Nada', 'Gangs of New York', 'Garden State', 'Germany Year Zero', 'Get on Up', 'Get the Gringo', 'Gomorrah', \"Goya's Ghosts\", 'Grandma', \"Gridlock'd\", 'Hackers', 'Hard Times', 'He Got Game', 'He Was a Quiet Man', 'Heal the Living', 'Hearts in Atlantis', 'Heathers', 'Hell or High Water', 'Hick', 'High School Musical', 'Holy Smoke!', 'How I Live Now', 'Ida', 'If I Stay', 'In the Valley of Elah', 'Inglourious Basterds', 'Inherent Vice', \"Inside I'm Dancing\", 'Iron Monkey', 'Iron Will', 'John Adams', 'Joy', 'Joyeux Noël', 'Juliet of the Spirits', 'Kill Your Darlings', 'Kingsglaive: Final Fantasy XV', 'La Grande Bouffe', 'Lean On Me', 'Leviathan', 'Lifeboat', 'Like Water for Chocolate', 'Little Miss Sunshine', 'London Boulevard', 'Lone Survivor', 'Lord of the Flies', 'Mad City', 'Man Bites Dog', 'Mansfield Park', 'Margin Call', 'Margot at the Wedding', 'Martha Marcy May Marlene', 'Me Before You', 'Mean Streets', 'Michael', 'Miracles from Heaven', \"Mo' Better Blues\", 'Moscow on the Hudson', 'Mr & Mme Adelman', 'My Afternoons with Margueritte', 'My Dog Skip', 'My Sassy Girl', 'Nixon', \"No Man's Land\", 'Nowhere to Run', 'One Hundred Steps', 'Open Your Eyes', 'Out of Time', 'Page Eight', 'Parkland', 'Pay It Forward', 'Perfect Stranger', 'Princess Protection Program', 'Purple Rain', 'Queen Margot', 'Redbelt', 'Regarding Henry', 'Reservation Road', 'Room', 'Rush', 'Rust and Bone', 'Satantango', 'Saturday Night Fever', 'Scum', 'Seraphim Falls', 'Sicario', 'Sleepers', 'Sliding Doors', \"Smilla's Sense of Snow\", 'Solitary Man', 'Somewhere in Time', 'Soul Kitchen', 'Suburra', 'Sully', 'Suspect', 'Swing Vote', 'Syrup', 'Talaash', 'That Thing You Do!', 'The Adderall Diaries', 'The Alamo', \"The Angels' Share\", 'The Art of Getting By', 'The Beguiled', 'The Big Shave', 'The Book of Henry', 'The Celebration', \"The Children's Hour\", 'The Client', 'The Crossing Guard', 'The Dark Knight', 'The Double', 'The Duke of Burgundy', 'The Eighth Day', 'The English Teacher', 'The Escort', 'The Flight of the Phoenix', 'The Great Buck Howard', 'The Hill', 'The Hunt', 'The Infiltrator', 'The Killing Fields', 'The Last King', 'The Life Aquatic with Steve Zissou', 'The Machinist', 'The Madness of King George', 'The Man without a Face', 'The Matador', 'The Night Listener', 'The Prestige', 'The Return', 'The Road Home', 'The Room', 'The Second Mother', 'The Seven Year Itch', \"The Sorcerer's Apprentice\", 'The Sting', 'The Survivalist', 'The Swimming Pool', 'The Taste of Others', 'The Tower', 'The Trial', 'The Umbrellas of Cherbourg', 'The United States of Leland', 'The Whole Truth', 'The Woman in Black', 'Thief', 'Third Person', 'Thirteen', 'Thumbelina', 'Titanic', 'Tokyo Godfathers', 'Trespass', 'Tristan & Isolde', 'Twilight Zone: The Movie', 'Uncommon Valor', 'Valhalla Rising', 'Violent Cop', 'Voice from the Stone', 'Wadjda', 'Warrior', \"What's Love Got to Do with It\", 'Where the Truth Lies', 'White Heat', 'Wild', 'Wild Bill', 'Wild Tales', 'Windtalkers', 'Withnail & I']\n",
      "Family : ['101 Dalmatians', 'Animals United', 'Barbie Presents: Thumbelina', 'Barbie and the Diamond Castle', 'Beauty and the Beast', \"Charlotte's Web\", 'Cloudy with a Chance of Meatballs', 'Diary of a Wimpy Kid: Rodrick Rules', 'Diary of a Wimpy Kid: The Long Haul', 'Doctor Dolittle', 'Elf', 'Encino Man', 'Gnomeo & Juliet', 'Hairspray', 'Hercules', 'High School Musical', 'Hook', \"I'll Be Home for Christmas\", 'Iron Will', 'Khumba', 'Lilo & Stitch 2: Stitch has a Glitch', 'Little Monsters', 'Monsters vs Aliens', 'My Dog Skip', 'Night at the Museum: Secret of the Tomb', 'No Time for Nuts', 'Over the Hedge', 'Piper', 'Planet 51', \"Pooh's Heffalump Movie\", 'Princess Protection Program', 'Short Circuit', 'Shrek', 'Snow White and the Seven Dwarfs', 'The Brave Little Toaster', \"The Hitchhiker's Guide to the Galaxy\", 'The Karate Kid, Part III', 'The Mighty Ducks', 'The Music Man', 'The Pink Panther', 'The Pirates! In an Adventure with Scientists!', 'The Powerpuff Girls Movie', 'The Princess Diaries', 'The Wrong Trousers', 'Thumbelina', 'Zookeeper']\n",
      "Fantasy : ['A Trip to the Moon', 'Abraham Lincoln: Vampire Hunter', 'Altered States', 'Beauty and the Beast', \"Charlotte's Web\", 'Conan the Destroyer', 'Defending Your Life', 'Doctor Dolittle', \"Don't Be Afraid of the Dark\", 'Doodlebug', 'Dragonball Evolution', 'Elf', 'Fantomas', 'Gremlins', 'Hancock', 'Hercules', 'Highlander V: The Source', 'Hook', 'I Am a Hero', 'Juliet of the Spirits', 'Kingsglaive: Final Fantasy XV', 'Little Monsters', 'Michael', 'Night at the Museum: Secret of the Tomb', 'Santa Sangre', 'Shrek', 'Sliding Doors', 'Snow White and the Seven Dwarfs', 'Somewhere in Time', 'Sucker Punch', 'The Brave Little Toaster', 'The Crow: City of Angels', 'The League of Extraordinary Gentlemen', \"The Sorcerer's Apprentice\", 'Thumbelina', 'Twilight Zone: The Movie', 'Valhalla Rising', 'Vincent']\n",
      "History : ['13 Hours: The Secret Soldiers of Benghazi', 'A Night to Remember', 'An Honest Liar', \"Assassin's Creed: Lineage\", 'Bhaag Milkha Bhaag', 'Bloody Sunday', 'Braveheart', 'Butch Cassidy and the Sundance Kid', 'Fail-Safe', 'Flame & Citron', 'Free State of Jones', 'Gangs of New York', 'Hoffa', 'In the Valley of Elah', 'John Adams', 'Joyeux Noël', 'King Arthur', 'Love and Death', 'Mongol: The Rise of Genghis Khan', 'Nixon', \"No Man's Land\", 'Parkland', 'Queen Margot', 'Sully', 'The Alamo', 'The Killing Fields', 'The Madness of King George', 'Windtalkers']\n",
      "Horror : ['11-11-11', 'Abraham Lincoln: Vampire Hunter', 'Alien Abduction', 'Alligator', 'Altered States', 'Altitude', 'Amityville II: The Possession', 'Antiviral', 'Blair Witch', 'Bride of Chucky', 'Catacombs', 'Curve', 'Deep Red', 'Detention', \"Don't Be Afraid of the Dark\", 'Fire in the Sky', 'Fright Night 2: New Blood', 'Gremlins', 'Hell', 'Hell Baby', 'Hellraiser: Revelations', 'I Am a Hero', 'Insidious: Chapter 2', 'It Came from Outer Space', 'Jessabelle', 'Ju-on: The Curse', \"Julia's Eyes\", 'Man Bites Dog', 'Mirrors 2', 'Phantasm', 'Pontypool', 'Quatermass and the Pit', 'Return of the Living Dead 3', 'Santa Sangre', 'Sleepaway Camp', 'Soul Survivors', 'Tales from the Crypt: Demon Knight', 'Tenebre', 'The Crazies', 'The Deaths of Ian Stone', 'The Devil Rides Out', 'The Purge: Election Year', 'The Thaw', 'The Woman in Black', 'Thir13en Ghosts', 'Tremors 5: Bloodlines', 'Twilight Zone: The Movie', 'Unrest', 'Vacancy 2: The First Cut', 'Valentine', 'Wrong Turn 2: Dead End', 'Zombie Strippers!']\n",
      "Music : ['Center Stage', 'Get on Up', 'Gigi', 'Guys and Dolls', 'Hairspray', 'High School Musical', 'Janis: Little Girl Blue', 'Joyeux Noël', 'Metallica: Through the Never', 'Purple Rain', 'Saturday Night Fever', 'Swing Time', 'The Brave Little Toaster', 'The Music Man', \"What's Love Got to Do with It\"]\n",
      "Mystery : ['Alphaville', 'Altered States', 'Conspiracy Theory', 'Courage Under Fire', 'Deep Red', 'Doodlebug', 'Fire in the Sky', 'Hearts in Atlantis', 'In the Valley of Elah', 'Inherent Vice', 'Mirrors 2', 'Page Eight', 'Parkland', 'Perfect Stranger', 'Pontypool', 'Santa Sangre', 'Sicario', 'Sky Captain and the World of Tomorrow', \"Smilla's Sense of Snow\", 'Soul Survivors', 'Tenebre', 'The Client', 'The Fugitive', 'The Gift', 'The Keeper of Lost Causes', 'The Pink Panther', 'The Prestige', 'The Return', 'The Tall Blond Man with One Black Shoe', 'Voice from the Stone', 'Where the Truth Lies']\n",
      "Romance : [\"A Midsummer Night's Sex Comedy\", 'A Room with a View', 'Angel Eyes', 'Arthur', 'As Good as It Gets', 'Atlantic City', 'Autumn in New York', 'Beauty and the Beast', 'Biloxi Blues', 'Breaking the Waves', 'Bronco Billy', 'Chinese Puzzle', 'Chocolat', 'Cinema Paradiso', 'Closer', 'Crash', 'Falling in Love', 'Far from the Madding Crowd', 'Four Weddings and a Funeral', 'Free Fall', 'From Prada to Nada', 'Garden State', 'Gigi', 'Guys and Dolls', 'He Was a Quiet Man', 'Head Over Heels', 'Hercules', 'Housesitter', 'Inherent Vice', 'Joyeux Noël', 'Kill Your Darlings', 'Like Water for Chocolate', 'Love Is in the Air', 'Mansfield Park', 'Me Before You', 'Meet the Fockers', \"Mo' Better Blues\", 'Moscow on the Hudson', 'Mr & Mme Adelman', 'My Sassy Girl', 'One Fine Day', 'Paris-Manhattan', 'Pay It Forward', 'Purple Rain', 'Return of the Living Dead 3', 'Revenge of the Bridesmaids', 'Rust and Bone', 'Save the Date', 'Sliding Doors', 'Solitary Man', 'Somewhere in Time', 'Swept Away', 'Swing Time', 'The Art of Getting By', 'The Beguiled', 'The Escort', 'The Princess Diaries', 'The Right Kind of Wrong', 'The Road Home', 'The Room', 'The Seven Year Itch', 'The Taste of Others', 'The Umbrellas of Cherbourg', 'Third Person', 'Three to Tango', 'Titanic', 'Top Gun', 'View from the Top', 'Voice from the Stone', 'Zookeeper']\n",
      "Science Fiction : ['A Trip to the Moon', 'Alien Abduction', 'Alligator', 'Alphaville', 'Altered States', 'Altitude', 'Antiviral', 'Babylon 5: In the Beginning', 'Coherence', 'Cowboy Bebop: The Movie', 'Detention', 'Dragonball Evolution', 'Ghost in the Shell: Stand Alone Complex - Solid State Society', 'Hell', 'Highlander V: The Source', 'I Am a Hero', 'It Came from Outer Space', 'Jin-Roh: The Wolf Brigade', 'Kingsglaive: Final Fantasy XV', 'Mad Max Beyond Thunderdome', 'Monsters vs Aliens', 'Phantasm', 'Planet 51', 'Planet Hulk', 'Pontypool', 'Quatermass and the Pit', 'Return of the Living Dead 3', 'Short Circuit', 'Sky Captain and the World of Tomorrow', 'Somewhere in Time', 'Stargate: Continuum', 'Starship Troopers', 'Terminator Salvation', \"The Hitchhiker's Guide to the Galaxy\", 'The League of Extraordinary Gentlemen', 'The Matrix', 'The Survivalist', 'The Thaw', 'The Tuxedo', 'Transformers', 'Tremors 5: Bloodlines', 'Turbo Kid', 'Twilight Zone: The Movie', 'Æon Flux']\n",
      "TV Movie : ['High School Musical']\n",
      "Thriller : ['11-11-11', '13 Hours: The Secret Soldiers of Benghazi', '2 Fast 2 Furious', '36th Precinct', 'A History of Violence', 'Alien Abduction', 'Alligator', 'Altered States', 'Altitude', 'American Psycho', 'Angel Eyes', 'Bangkok Dangerous', \"Before the Devil Knows You're Dead\", 'Big Game', 'Blair Witch', 'Breakdown', 'Cat Run', 'Catacombs', 'Changing Lanes', 'Clinical', 'Coherence', 'Conspiracy Theory', 'Control', 'Courage Under Fire', 'Crash', 'Curve', 'Deep Red', 'Die Another Day', 'Dog Eat Dog', \"Don't Be Afraid of the Dark\", 'Dragonball Evolution', 'Fail-Safe', 'Fair Game', 'Falling Down', 'Fighting', 'Fire in the Sky', 'First Blood', 'Free State of Jones', 'Get the Gringo', 'Ghost in the Shell: Stand Alone Complex - Solid State Society', 'Gone in Sixty Seconds', 'Hackers', 'Heathers', 'Hell', 'Hell or High Water', 'Hitman: Agent 47', 'How I Live Now', 'In the Valley of Elah', 'Inglourious Basterds', 'Insidious: Chapter 2', 'Jessabelle', 'Jin-Roh: The Wolf Brigade', 'Johnny Dangerously', \"Julia's Eyes\", 'Kill Your Darlings', 'Knock Off', 'Lone Survivor', 'Lord of the Flies', 'Mad City', 'Mad Detective', 'Made', 'Margin Call', 'Marked for Death', 'Martha Marcy May Marlene', 'Mirrors 2', 'Nowhere to Run', 'Octopussy', 'Open Your Eyes', 'Out of Time', 'Page Eight', 'Parkland', 'Perfect Stranger', 'Pulp Fiction', 'Reservation Road', 'Room', 'Rush Hour 3', 'Sicario', 'Sky Captain and the World of Tomorrow', 'Sleepers', 'Sleepless', \"Smilla's Sense of Snow\", 'Soul Survivors', 'Starship Troopers', 'Street Fighter', 'Suburra', 'Sucker Punch', 'Suspect', 'Sweetwater', 'Talaash', 'Tales from the Crypt: Demon Knight', 'Tenebre', 'Terminator Salvation', 'The Absent One', 'The Adderall Diaries', 'The Book of Henry', 'The Client', 'The Crazies', 'The Crossing Guard', 'The Crow: City of Angels', 'The Dark Knight', 'The Deaths of Ian Stone', 'The Double', 'The Fugitive', 'The Fury of a Patient Man', 'The Getaway', 'The Gift', 'The Infiltrator', 'The Keeper of Lost Causes', 'The League of Extraordinary Gentlemen', 'The Machinist', 'The Matador', 'The Night Listener', 'The Prestige', 'The Purge: Election Year', 'The Return', 'The Survivalist', 'The Thaw', 'The Tuxedo', 'The Two Faces of January', 'The Whole Truth', 'The Woman in Black', 'Thief', 'Thir13en Ghosts', 'Titanic', 'Trespass', 'Twilight Zone: The Movie', 'Uncommon Valor', 'Under Siege 2: Dark Territory', 'Undisputed II: Last Man Standing', 'Unlocked', 'Vacancy 2: The First Cut', 'Valentine', 'Vehicle 19', 'Very Bad Things', 'Voice from the Stone', 'Where the Truth Lies', 'White Heat', 'Wild Tales', 'Wild Things', 'Wrong Turn 2: Dead End']\n",
      "War : ['300', '13 Hours: The Secret Soldiers of Benghazi', 'All Quiet on the Western Front', 'Beasts of No Nation', 'Braveheart', 'Courage Under Fire', 'First Blood', 'Flame & Citron', 'Free State of Jones', 'Germany Year Zero', 'How I Live Now', 'Inglourious Basterds', 'Joyeux Noël', 'King Arthur', 'Lifeboat', 'Lone Survivor', 'The Beguiled', 'The Hill', 'The Killing Fields', 'Top Gun', 'Windtalkers']\n",
      "Western : ['Bad Day at Black Rock', 'Blueberry', 'Bronco Billy', 'Butch Cassidy and the Sundance Kid', 'Hell or High Water', 'Seraphim Falls', 'Sweetwater', 'The Alamo', 'The Beguiled', 'The Lone Ranger']\n",
      "test2 : ['test1']\n"
     ]
    }
   ],
   "source": [
    "output = cat(file)\n",
    "for i in output:\n",
    "    if type(output[i]) == str and len(output[i]) == 0:\n",
    "        continue\n",
    "    else:\n",
    "        print(i, \":\", output[i])"
   ]
  },
  {
   "cell_type": "code",
   "execution_count": null,
   "id": "1bead2fa",
   "metadata": {},
   "outputs": [],
   "source": []
  },
  {
   "cell_type": "markdown",
   "id": "744a4466",
   "metadata": {},
   "source": [
    "### rm: remove a file from the file system\n",
    "#### note: suggest enter \"test\" to delete test table, not affecting other tables"
   ]
  },
  {
   "cell_type": "code",
   "execution_count": 446,
   "id": "fded0253",
   "metadata": {},
   "outputs": [],
   "source": [
    "base = \"https://imdb-movies-d490a-default-rtdb.firebaseio.com/\"\n",
    "rm_dic = {\"information\":\"information.json\",\"scores\":\"scores.json\", \"test\":\"test.json\"}\n",
    "\n",
    "def valid_rm(path):\n",
    "    if path in rm_dic:\n",
    "        new_path = rm_dic[path]\n",
    "    else:\n",
    "        new_path = path + \".json\"\n",
    "    return new_path"
   ]
  },
  {
   "cell_type": "code",
   "execution_count": 447,
   "id": "21de28bf",
   "metadata": {},
   "outputs": [
    {
     "name": "stdout",
     "output_type": "stream",
     "text": [
      "Enter specific table: test\n"
     ]
    }
   ],
   "source": [
    "path = input(\"Enter specific table: \")\n",
    "def rm(url):\n",
    "    rm_link = url + valid_rm(path)\n",
    "    remove = requests.delete(rm_link)\n",
    "rm(base)"
   ]
  },
  {
   "cell_type": "code",
   "execution_count": null,
   "id": "091eaad9",
   "metadata": {},
   "outputs": [],
   "source": []
  },
  {
   "cell_type": "markdown",
   "id": "92d56772",
   "metadata": {},
   "source": [
    "### put(file, path): uploading a file to file system\n",
    "#### Idea: in the below put() function, we are supposed to add data to the NameNode (information table) in firebase. Because there are several DataNodes, when the new data is uploaded, the DataNodes should simultaneously upload the corresponding partition of the new data. \n",
    "\n",
    "##### file: {\"movie_title\":{\"new_genres\":\"g1, g2\", \"new_language\": \"l1, l2\", \"popularity\": value, \"release_date\": value,\"title\":\"movie_movie\"}}\n",
    "##### path: subset of a list [\"year\", \"genres\",\"popularity\", \"language\"]"
   ]
  },
  {
   "cell_type": "code",
   "execution_count": 448,
   "id": "8c3dc9e0",
   "metadata": {},
   "outputs": [],
   "source": [
    "check = {\"year\":\"release_date\", \"genres\": \"new_genres\", \"popularity\":\"popularity\", \"language\": \"new_language\"}\n",
    "def put(movie_dic, path):\n",
    "    for i in movie_dic:\n",
    "        base = \"https://imdb-movies-d490a-default-rtdb.firebaseio.com/\"\n",
    "        link = base + \"information/\" + i + \".json\"\n",
    "        movie_content = movie_dic[i] # type(movie_content): dictionary\n",
    "        movie_json = json.dumps(movie_content)\n",
    "        r = requests.put(link, movie_json)\n",
    "        for j in path:\n",
    "            part = check[j]\n",
    "            upload_part = movie_content[part]\n",
    "            if type(upload_part) == int or type(upload_part) == float:\n",
    "                upload_part = round(upload_part)\n",
    "                upload_link = base + j + \"/\" + str(int(upload_part)) + \".json\"\n",
    "                exist = requests.get(upload_link)\n",
    "                if exist.json() == None:\n",
    "                    upload_lst = [i]\n",
    "                else:\n",
    "                    upload_lst = exist.json()\n",
    "                    upload_lst.append(i)\n",
    "                upload_json = json.dumps(upload_lst, indent = 4)\n",
    "                db = requests.put(upload_link, data = upload_json)\n",
    "            else:\n",
    "                tmp = upload_part.split(\", \")\n",
    "                for k in tmp:\n",
    "                    upload_link = base + j + \"/\" + k +\".json\"\n",
    "                    exist = requests.get(upload_link)\n",
    "                    if exist.json() == None:\n",
    "                        upload_lst = [i]\n",
    "                    else:\n",
    "                        upload_lst = exist.json()\n",
    "                        upload_lst.append(i)\n",
    "                    upload_json = json.dumps(upload_lst, indent = 4)\n",
    "                    db = requests.put(upload_link, data = upload_json)"
   ]
  },
  {
   "cell_type": "code",
   "execution_count": 300,
   "id": "96584dca",
   "metadata": {},
   "outputs": [],
   "source": [
    "example = {\"test_movie\":{\"new_genres\":\"Action, History\", \"new_language\": \"Danish, Hindi\", \"popularity\": 90,\"release_date\":\"2022\",\"title\":\"test_movie\"}}\n",
    "path_lst = [\"year\", \"genres\",\"popularity\", \"language\"]\n",
    "put(example,path_lst)"
   ]
  },
  {
   "cell_type": "markdown",
   "id": "fd01495f",
   "metadata": {},
   "source": [
    "note: if we add a new attribute in a table, remember to change the rule on firebase"
   ]
  },
  {
   "cell_type": "code",
   "execution_count": null,
   "id": "1b709cd2",
   "metadata": {},
   "outputs": [],
   "source": []
  },
  {
   "cell_type": "markdown",
   "id": "44becd19",
   "metadata": {},
   "source": [
    "### getPartitionLocations(file): return the locations of partitions of the file"
   ]
  },
  {
   "cell_type": "code",
   "execution_count": 510,
   "id": "d9c50241",
   "metadata": {},
   "outputs": [],
   "source": [
    "base = \"https://imdb-movies-d490a-default-rtdb.firebaseio.com/\"\n",
    "base_paths = [\"genres\",\"year\",\"popularity\",\"language\"]\n",
    "overall_loc = {}\n",
    "for i in base_paths:\n",
    "    link = base + i + \".json\"\n",
    "    content = requests.get(link)\n",
    "    dic = content.json()\n",
    "    keys = [j for j in dic.keys()]\n",
    "    loc_dic = {}\n",
    "    for k in keys:\n",
    "        loc_link = base + i + \"/\" + k\n",
    "        loc_dic[loc_link] = \"data/\"+ i + \"/\" + k\n",
    "    overall_loc[i] = loc_dic"
   ]
  },
  {
   "cell_type": "code",
   "execution_count": 511,
   "id": "d62102e8",
   "metadata": {},
   "outputs": [],
   "source": [
    "base = \"https://imdb-movies-d490a-default-rtdb.firebaseio.com/\"\n",
    "def loc(file):\n",
    "    arr = []\n",
    "    p = [\"genres\",\"year\",\"popularity\",\"language\"]\n",
    "    arr_dic = {i:[] for i in p}\n",
    "    for path in p:\n",
    "        table_content = requests.get(base + path + \".json\")\n",
    "        table_dic = table_content.json()\n",
    "        keys = [i for i in table_dic]\n",
    "        for key in keys:\n",
    "            url = base + path + \"/\" + key + '.json?orderBy=\"$value\"&equalTo=\"'+ file +'\"'\n",
    "            r = requests.get(url)\n",
    "            s = r.json()\n",
    "            if len(s) != 0:\n",
    "                arr_dic[path].append(key)\n",
    "    return arr_dic\n"
   ]
  },
  {
   "cell_type": "code",
   "execution_count": 512,
   "id": "72aa3bb2",
   "metadata": {},
   "outputs": [],
   "source": [
    "def getpl():\n",
    "    loc_path = []\n",
    "    new_dic = loc(file)\n",
    "    for dic in new_dic:\n",
    "        tmp_lst = new_dic[dic]\n",
    "        for i in tmp_lst:\n",
    "            loc_link = base + dic + \"/\" + i\n",
    "            if loc_link in overall_loc[dic]:\n",
    "                loc_path.append(overall_loc[dic][loc_link])\n",
    "    return loc_path"
   ]
  },
  {
   "cell_type": "code",
   "execution_count": 513,
   "id": "3bf868e5",
   "metadata": {},
   "outputs": [
    {
     "name": "stdout",
     "output_type": "stream",
     "text": [
      "Enter the partition file name: Curve\n",
      "The locations of partitions of the file are:  ['data/genres/Horror', 'data/genres/Thriller', 'data/year/2015', 'data/popularity/5', 'data/language/English', 'data/language/German']\n"
     ]
    }
   ],
   "source": [
    "file = input(\"Enter the partition file name: \") \n",
    "print(\"The locations of partitions of the file are: \", getpl())"
   ]
  },
  {
   "cell_type": "code",
   "execution_count": null,
   "id": "59633628",
   "metadata": {},
   "outputs": [],
   "source": []
  },
  {
   "cell_type": "markdown",
   "id": "a4a3a56a",
   "metadata": {},
   "source": [
    "### readPartition(file, partition#): return the content of partition # of the specified file\n",
    "\n",
    "##### file: specific movie name\n",
    "##### partition #: one of the set (\"year\", \"genres\",\"popularity\", \"language\")  "
   ]
  },
  {
   "cell_type": "code",
   "execution_count": 528,
   "id": "7051d9dd",
   "metadata": {},
   "outputs": [],
   "source": [
    "base = \"https://imdb-movies-d490a-default-rtdb.firebaseio.com/\"\n",
    "read = []\n",
    "def readp(file,part):\n",
    "    part_dic = loc(file)\n",
    "    part_lst = part_dic[part]\n",
    "    for i in part_lst:\n",
    "        url = base + part + \"/\" + i + \".json\"\n",
    "        r = requests.get(url)\n",
    "        r_content = r.json()\n",
    "        r_dic = {i:r_content}\n",
    "        read.append(r_dic)\n",
    "    return read "
   ]
  },
  {
   "cell_type": "code",
   "execution_count": 529,
   "id": "20a9b40b",
   "metadata": {},
   "outputs": [
    {
     "name": "stdout",
     "output_type": "stream",
     "text": [
      "Enter the file name: Big Game\n",
      "Enter the partition table: genres\n"
     ]
    }
   ],
   "source": [
    "file = input(\"Enter the file name: \") \n",
    "part = input(\"Enter the partition table: \")"
   ]
  },
  {
   "cell_type": "code",
   "execution_count": 531,
   "id": "8e855ca2",
   "metadata": {},
   "outputs": [],
   "source": [
    "#print(\"The content of partition of the file: \", readp(file,part))"
   ]
  },
  {
   "cell_type": "code",
   "execution_count": null,
   "id": "860a7961",
   "metadata": {},
   "outputs": [],
   "source": []
  },
  {
   "cell_type": "markdown",
   "id": "2bf99835",
   "metadata": {},
   "source": [
    "# Partition-based MapReduce( )\n"
   ]
  },
  {
   "cell_type": "markdown",
   "id": "d2a12952",
   "metadata": {},
   "source": [
    "### Example 1\n",
    "##### pmr(partition): input should be one of the set (\"genres\", \"languages\")\n",
    "##### pmr() returns the attibutes of a specific file of the given partition(table) \n",
    "##### SQL query: select * from partition_table where attrs = file;"
   ]
  },
  {
   "cell_type": "code",
   "execution_count": 514,
   "id": "a7232a23",
   "metadata": {},
   "outputs": [
    {
     "name": "stdout",
     "output_type": "stream",
     "text": [
      "Enter a file name: Altitude\n"
     ]
    }
   ],
   "source": [
    "file = input(\"Enter a file name: \")\n",
    "def pmr(partition):\n",
    "    lst = []\n",
    "    base = \"https://imdb-movies-d490a-default-rtdb.firebaseio.com/\"\n",
    "    url = base + partition + \"/\" + \".json\"\n",
    "    r = requests.get(url)\n",
    "    r_content = r.json()\n",
    "    for i in r_content:\n",
    "        if file in r_content[i]:\n",
    "            lst.append(i)\n",
    "    return lst"
   ]
  },
  {
   "cell_type": "code",
   "execution_count": 516,
   "id": "fa7aea9a",
   "metadata": {},
   "outputs": [
    {
     "name": "stdout",
     "output_type": "stream",
     "text": [
      "The genres list:  ['Action', 'Horror', 'Science Fiction', 'Thriller']\n",
      "The language list:  ['English', 'French']\n"
     ]
    }
   ],
   "source": [
    "print(\"The genres list: \",pmr(\"genres\"))\n",
    "print(\"The language list: \",pmr(\"language\"))"
   ]
  },
  {
   "cell_type": "markdown",
   "id": "873aece0",
   "metadata": {},
   "source": [
    "### Example 2\n",
    "##### pmr_range(low,high,partition): low is the low_limit, high is the high limit, partition is one of set (\"year\", \"popularity\")\n",
    "##### pmr_range() returns the movies in a given range of a specific partition(table) \n",
    "##### SQL query: select * from partition_table where low < value < high; "
   ]
  },
  {
   "cell_type": "code",
   "execution_count": 517,
   "id": "9f02d167",
   "metadata": {},
   "outputs": [],
   "source": [
    "def pmr_range(low,high,partition):\n",
    "    base = \"https://imdb-movies-d490a-default-rtdb.firebaseio.com/\"\n",
    "    url = base + partition + '.json?orderBy=\"$key\"&startAt=\"'+ str(low) +'\"&endAt='+ '\"' + str(high) + '\"'\n",
    "    r = requests.get(url)\n",
    "    r_dic = r.json()\n",
    "    return r_dic"
   ]
  },
  {
   "cell_type": "code",
   "execution_count": 527,
   "id": "02a6315b",
   "metadata": {},
   "outputs": [
    {
     "name": "stdout",
     "output_type": "stream",
     "text": [
      "{'19': ['Undisputed II: Last Man Standing'], '20': ['Night at the Museum: Secret of the Tomb', 'Sicario', 'Top Gun'], '21': ['Braveheart']}\n",
      "{'1992': ['A River Runs Through It', 'All Ladies Do It', 'Encino Man', 'Hoffa', 'Housesitter', 'Like Water for Chocolate', 'Man Bites Dog', 'The Mighty Ducks'], '1993': ['A Bronx Tale', 'Falling Down', 'Fire in the Sky', 'Iron Monkey', 'Nowhere to Run', 'Return of the Living Dead 3', 'The Fugitive', 'The Man without a Face', 'The Wrong Trousers', \"What's Love Got to Do with It\"], '1994': ['Four Weddings and a Funeral', 'Iron Will', 'Pulp Fiction', 'Queen Margot', 'Satantango', 'Street Fighter', 'The Client', 'The Madness of King George', 'Thumbelina'], '1995': ['Braveheart', 'Casino', 'Hackers', 'Nixon', 'Something to Talk About', 'Tales from the Crypt: Demon Knight', 'The Crossing Guard', 'Under Siege 2: Dark Territory']}\n"
     ]
    }
   ],
   "source": [
    "print(pmr_range(19,24,\"popularity\"))\n",
    "print(pmr_range(1992,1995,\"year\"))"
   ]
  },
  {
   "cell_type": "markdown",
   "id": "b74ad264",
   "metadata": {},
   "source": [
    "### Example 3\n",
    "##### pmr_find(partition): partition is one of set (\"genres\",\"language\")\n",
    "##### pmr_find() returns the movies which have the same partition as that of a given movie \n",
    "##### SQL query: select * from partition_table where value = file.partition; "
   ]
  },
  {
   "cell_type": "code",
   "execution_count": 561,
   "id": "3993d345",
   "metadata": {},
   "outputs": [],
   "source": [
    "from collections import Counter"
   ]
  },
  {
   "cell_type": "code",
   "execution_count": 574,
   "id": "a27f8bd5",
   "metadata": {},
   "outputs": [
    {
     "name": "stdout",
     "output_type": "stream",
     "text": [
      "Enter a file name: Catacombs\n"
     ]
    }
   ],
   "source": [
    "file = input(\"Enter a file name: \")\n",
    "def pmr_find(partition):\n",
    "    base = \"https://imdb-movies-d490a-default-rtdb.firebaseio.com/\"\n",
    "    url = base + partition + \".json\"\n",
    "    tmp_dic = requests.get(url).json()\n",
    "    tmp_keys = [i for i in tmp_dic]\n",
    "    cnt = []\n",
    "    num = 0\n",
    "    for j in tmp_keys:\n",
    "        new_url = base + partition + \"/\" + j + \".json?\" + 'orderBy=\"$value\"&equalTo=\"' + file + '\"'\n",
    "        r = requests.get(new_url)\n",
    "        r_dic = r.json()\n",
    "        if len(r_dic) != 0:\n",
    "            link = base + partition + \"/\" + j + \".json\"\n",
    "            content = requests.get(link).json()\n",
    "            #print(content)\n",
    "            cnt += content\n",
    "            num += 1\n",
    "    cnt_dic = Counter(cnt)\n",
    "    output = []\n",
    "    for i in cnt_dic:\n",
    "        if cnt_dic[i] == num:\n",
    "            output.append(i)\n",
    "    return output\n",
    "            "
   ]
  },
  {
   "cell_type": "code",
   "execution_count": 578,
   "id": "e0294453",
   "metadata": {},
   "outputs": [],
   "source": [
    "#print(\"The movies with the same langaguage: \", pmr_find(\"language\"))"
   ]
  },
  {
   "cell_type": "code",
   "execution_count": 579,
   "id": "03e36ce9",
   "metadata": {},
   "outputs": [],
   "source": [
    "#print(\"The movies with the same genres: \", pmr_find(\"genres\"))"
   ]
  },
  {
   "cell_type": "markdown",
   "id": "9969fc76",
   "metadata": {},
   "source": [
    "Note: The output value of pmr_find(partition) is dependent on whether \"genres\" or \"language\" is set as input. We can further find out which movie appears in both genres_list and language_list, which means the movie share the common language types and genre types as the input file. "
   ]
  },
  {
   "cell_type": "code",
   "execution_count": 577,
   "id": "ea5d7f3b",
   "metadata": {},
   "outputs": [
    {
     "name": "stdout",
     "output_type": "stream",
     "text": [
      "Movies with the same genres and language ['Altitude', 'Catacombs', 'Twilight Zone: The Movie']\n"
     ]
    }
   ],
   "source": [
    "lang_lst = pmr_find(\"language\")\n",
    "genres_lst = pmr_find(\"genres\")\n",
    "common = []\n",
    "for i in lang_lst:\n",
    "    if i in genres_lst:\n",
    "        common.append(i)\n",
    "print(\"Movies with the same genres and language\", common)"
   ]
  }
 ],
 "metadata": {
  "kernelspec": {
   "display_name": "Python 3 (ipykernel)",
   "language": "python",
   "name": "python3"
  },
  "language_info": {
   "codemirror_mode": {
    "name": "ipython",
    "version": 3
   },
   "file_extension": ".py",
   "mimetype": "text/x-python",
   "name": "python",
   "nbconvert_exporter": "python",
   "pygments_lexer": "ipython3",
   "version": "3.9.12"
  }
 },
 "nbformat": 4,
 "nbformat_minor": 5
}
